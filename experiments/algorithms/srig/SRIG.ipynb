{
 "cells": [
  {
   "cell_type": "markdown",
   "metadata": {},
   "source": [
    "# Sparse Regression Incorporating Graphical Structure Among Predictors (SRIG), i.e. GraphLasso"
   ]
  },
  {
   "cell_type": "code",
   "execution_count": 1,
   "metadata": {},
   "outputs": [
    {
     "name": "stdout",
     "output_type": "stream",
     "text": [
      "Populating the interactive namespace from numpy and matplotlib\n"
     ]
    }
   ],
   "source": [
    "%pylab inline\n",
    "import pickle\n",
    "import pandas as pd\n",
    "import networkx as nx\n",
    "import scipy\n",
    "\n",
    "from sklearn.linear_model import LogisticRegression\n",
    "from sklearn.preprocessing import LabelEncoder\n",
    "# from sklearn.model_selection import train_test_split, cross_val_score, KFold\n",
    "def flatten(list_of_lists): return [item for sublist in list_of_lists for item in sublist]\n",
    "\n",
    "repo_path = '/Users/alex/Documents/gslr/'\n",
    "data_path = repo_path + 'experiments/generated_data/3/'\n",
    "KEGG_path = repo_path + 'experiments/KEGG/KEGG_df.filtered.with_correlates.pickle'\n",
    "interactome_path = repo_path + 'experiments/algorithms/pcsf/inbiomap_temp.tsv'\n",
    "pathway_id = 'hsa04110'"
   ]
  },
  {
   "cell_type": "markdown",
   "metadata": {},
   "source": [
    "### I. Load Dataset"
   ]
  },
  {
   "cell_type": "code",
   "execution_count": 2,
   "metadata": {},
   "outputs": [
    {
     "data": {
      "text/html": [
       "<div>\n",
       "<style scoped>\n",
       "    .dataframe tbody tr th:only-of-type {\n",
       "        vertical-align: middle;\n",
       "    }\n",
       "\n",
       "    .dataframe tbody tr th {\n",
       "        vertical-align: top;\n",
       "    }\n",
       "\n",
       "    .dataframe thead th {\n",
       "        text-align: right;\n",
       "    }\n",
       "</style>\n",
       "<table border=\"1\" class=\"dataframe\">\n",
       "  <thead>\n",
       "    <tr style=\"text-align: right;\">\n",
       "      <th></th>\n",
       "      <th>ZNF91</th>\n",
       "      <th>NDEL1</th>\n",
       "      <th>ELAVL1</th>\n",
       "      <th>SUMO1</th>\n",
       "      <th>SUMO3</th>\n",
       "      <th>CHMP5</th>\n",
       "      <th>UBC</th>\n",
       "      <th>HTT</th>\n",
       "      <th>E2F4</th>\n",
       "      <th>ACP5</th>\n",
       "      <th>...</th>\n",
       "      <th>SPANXN4</th>\n",
       "      <th>ZNF605</th>\n",
       "      <th>SERPINB10</th>\n",
       "      <th>ANKAR</th>\n",
       "      <th>RRH</th>\n",
       "      <th>DHH</th>\n",
       "      <th>CYSLTR1</th>\n",
       "      <th>ZNF268</th>\n",
       "      <th>COL23A1</th>\n",
       "      <th>MEDAG</th>\n",
       "    </tr>\n",
       "  </thead>\n",
       "  <tbody>\n",
       "    <tr>\n",
       "      <th>hsa04110</th>\n",
       "      <td>0.0</td>\n",
       "      <td>0.115272</td>\n",
       "      <td>-0.365345</td>\n",
       "      <td>-0.014955</td>\n",
       "      <td>-0.374350</td>\n",
       "      <td>0.109953</td>\n",
       "      <td>-0.0</td>\n",
       "      <td>-0.313725</td>\n",
       "      <td>0.034973</td>\n",
       "      <td>-0.309654</td>\n",
       "      <td>...</td>\n",
       "      <td>0.0</td>\n",
       "      <td>0.0</td>\n",
       "      <td>0.0</td>\n",
       "      <td>0.0</td>\n",
       "      <td>0.0</td>\n",
       "      <td>0.0</td>\n",
       "      <td>0.0</td>\n",
       "      <td>0.0</td>\n",
       "      <td>0.0</td>\n",
       "      <td>0.0</td>\n",
       "    </tr>\n",
       "    <tr>\n",
       "      <th>hsa04110</th>\n",
       "      <td>-0.0</td>\n",
       "      <td>-0.138520</td>\n",
       "      <td>-0.340004</td>\n",
       "      <td>0.430427</td>\n",
       "      <td>0.618810</td>\n",
       "      <td>-0.400398</td>\n",
       "      <td>-0.0</td>\n",
       "      <td>0.281479</td>\n",
       "      <td>-0.903482</td>\n",
       "      <td>0.312078</td>\n",
       "      <td>...</td>\n",
       "      <td>0.0</td>\n",
       "      <td>0.0</td>\n",
       "      <td>0.0</td>\n",
       "      <td>0.0</td>\n",
       "      <td>0.0</td>\n",
       "      <td>0.0</td>\n",
       "      <td>0.0</td>\n",
       "      <td>0.0</td>\n",
       "      <td>0.0</td>\n",
       "      <td>0.0</td>\n",
       "    </tr>\n",
       "    <tr>\n",
       "      <th>negative</th>\n",
       "      <td>-0.0</td>\n",
       "      <td>-0.492418</td>\n",
       "      <td>0.612346</td>\n",
       "      <td>0.544840</td>\n",
       "      <td>-0.253648</td>\n",
       "      <td>-0.004268</td>\n",
       "      <td>-0.0</td>\n",
       "      <td>-0.109864</td>\n",
       "      <td>0.337787</td>\n",
       "      <td>-0.604446</td>\n",
       "      <td>...</td>\n",
       "      <td>0.0</td>\n",
       "      <td>0.0</td>\n",
       "      <td>0.0</td>\n",
       "      <td>0.0</td>\n",
       "      <td>0.0</td>\n",
       "      <td>0.0</td>\n",
       "      <td>0.0</td>\n",
       "      <td>0.0</td>\n",
       "      <td>0.0</td>\n",
       "      <td>0.0</td>\n",
       "    </tr>\n",
       "    <tr>\n",
       "      <th>hsa04110</th>\n",
       "      <td>-0.0</td>\n",
       "      <td>-0.592521</td>\n",
       "      <td>0.050179</td>\n",
       "      <td>0.383061</td>\n",
       "      <td>0.261450</td>\n",
       "      <td>-0.131206</td>\n",
       "      <td>0.0</td>\n",
       "      <td>-0.265055</td>\n",
       "      <td>0.179607</td>\n",
       "      <td>-0.416877</td>\n",
       "      <td>...</td>\n",
       "      <td>0.0</td>\n",
       "      <td>0.0</td>\n",
       "      <td>0.0</td>\n",
       "      <td>0.0</td>\n",
       "      <td>0.0</td>\n",
       "      <td>0.0</td>\n",
       "      <td>0.0</td>\n",
       "      <td>0.0</td>\n",
       "      <td>0.0</td>\n",
       "      <td>0.0</td>\n",
       "    </tr>\n",
       "    <tr>\n",
       "      <th>hsa04110</th>\n",
       "      <td>0.0</td>\n",
       "      <td>0.000973</td>\n",
       "      <td>0.040952</td>\n",
       "      <td>-0.728286</td>\n",
       "      <td>-0.604990</td>\n",
       "      <td>-0.119933</td>\n",
       "      <td>-0.0</td>\n",
       "      <td>-0.047649</td>\n",
       "      <td>0.165359</td>\n",
       "      <td>-0.616325</td>\n",
       "      <td>...</td>\n",
       "      <td>0.0</td>\n",
       "      <td>0.0</td>\n",
       "      <td>0.0</td>\n",
       "      <td>0.0</td>\n",
       "      <td>0.0</td>\n",
       "      <td>0.0</td>\n",
       "      <td>0.0</td>\n",
       "      <td>0.0</td>\n",
       "      <td>0.0</td>\n",
       "      <td>0.0</td>\n",
       "    </tr>\n",
       "  </tbody>\n",
       "</table>\n",
       "<p>5 rows × 16349 columns</p>\n",
       "</div>"
      ],
      "text/plain": [
       "          ZNF91     NDEL1    ELAVL1     SUMO1     SUMO3     CHMP5  UBC  \\\n",
       "hsa04110    0.0  0.115272 -0.365345 -0.014955 -0.374350  0.109953 -0.0   \n",
       "hsa04110   -0.0 -0.138520 -0.340004  0.430427  0.618810 -0.400398 -0.0   \n",
       "negative   -0.0 -0.492418  0.612346  0.544840 -0.253648 -0.004268 -0.0   \n",
       "hsa04110   -0.0 -0.592521  0.050179  0.383061  0.261450 -0.131206  0.0   \n",
       "hsa04110    0.0  0.000973  0.040952 -0.728286 -0.604990 -0.119933 -0.0   \n",
       "\n",
       "               HTT      E2F4      ACP5  ...    SPANXN4  ZNF605  SERPINB10  \\\n",
       "hsa04110 -0.313725  0.034973 -0.309654  ...        0.0     0.0        0.0   \n",
       "hsa04110  0.281479 -0.903482  0.312078  ...        0.0     0.0        0.0   \n",
       "negative -0.109864  0.337787 -0.604446  ...        0.0     0.0        0.0   \n",
       "hsa04110 -0.265055  0.179607 -0.416877  ...        0.0     0.0        0.0   \n",
       "hsa04110 -0.047649  0.165359 -0.616325  ...        0.0     0.0        0.0   \n",
       "\n",
       "          ANKAR  RRH  DHH  CYSLTR1  ZNF268  COL23A1  MEDAG  \n",
       "hsa04110    0.0  0.0  0.0      0.0     0.0      0.0    0.0  \n",
       "hsa04110    0.0  0.0  0.0      0.0     0.0      0.0    0.0  \n",
       "negative    0.0  0.0  0.0      0.0     0.0      0.0    0.0  \n",
       "hsa04110    0.0  0.0  0.0      0.0     0.0      0.0    0.0  \n",
       "hsa04110    0.0  0.0  0.0      0.0     0.0      0.0    0.0  \n",
       "\n",
       "[5 rows x 16349 columns]"
      ]
     },
     "execution_count": 2,
     "metadata": {},
     "output_type": "execute_result"
    }
   ],
   "source": [
    "dataset = pd.read_csv(data_path + pathway_id + '_inbiomap_exp.csv', index_col=0)\n",
    "dataset.head()"
   ]
  },
  {
   "cell_type": "markdown",
   "metadata": {},
   "source": [
    "### II. Extract Labels"
   ]
  },
  {
   "cell_type": "code",
   "execution_count": 3,
   "metadata": {},
   "outputs": [
    {
     "data": {
      "text/plain": [
       "array([0, 0, 1, 0, 0, 1, 0, 0, 1, 0, 1, 0, 0, 1, 1, 0, 0, 1, 1, 1, 0, 0,\n",
       "       1, 0, 0, 0, 0, 1, 0, 1, 0, 0, 0, 0, 1, 0, 0, 0, 0, 0, 1, 1, 0, 1,\n",
       "       1, 1, 0, 0, 0, 0, 0, 1, 0, 1, 0, 1, 1, 0, 1, 0, 0, 0, 1, 0, 1, 1,\n",
       "       1, 1, 1, 1, 1, 1, 1, 1, 1, 1, 1, 1, 1, 1, 1, 0, 0, 1, 1, 1, 0, 1,\n",
       "       0, 1, 1, 1, 1, 1, 1, 0, 1, 1, 1, 1, 1, 0, 0, 0, 0, 1, 0, 0, 0, 1,\n",
       "       0, 1, 1, 1, 0, 1, 0, 0, 1, 0, 0, 0, 1, 0, 0, 1, 1, 1, 0, 1, 0, 1,\n",
       "       1, 0, 0, 1, 0, 1, 0, 0, 0, 1, 0, 1, 1, 1, 0, 0, 1, 1, 0, 0, 0, 1,\n",
       "       0, 0, 0, 0, 0, 1, 1, 1, 0, 0, 0, 0, 0, 0, 1, 1, 0, 1, 0, 0, 1, 1,\n",
       "       1, 0, 0, 1, 1, 1, 1, 0, 1, 1, 0, 1, 1, 0, 0, 0, 0, 0, 1, 1, 1, 0,\n",
       "       1, 0])"
      ]
     },
     "execution_count": 3,
     "metadata": {},
     "output_type": "execute_result"
    }
   ],
   "source": [
    "labeler = LabelEncoder()\n",
    "labeler.fit(dataset.index.tolist())\n",
    "labels = labeler.transform(dataset.index.tolist())\n",
    "y = labels\n",
    "y"
   ]
  },
  {
   "cell_type": "markdown",
   "metadata": {},
   "source": [
    "### III. Load Interactome"
   ]
  },
  {
   "cell_type": "code",
   "execution_count": 4,
   "metadata": {},
   "outputs": [
    {
     "data": {
      "text/html": [
       "<div>\n",
       "<style scoped>\n",
       "    .dataframe tbody tr th:only-of-type {\n",
       "        vertical-align: middle;\n",
       "    }\n",
       "\n",
       "    .dataframe tbody tr th {\n",
       "        vertical-align: top;\n",
       "    }\n",
       "\n",
       "    .dataframe thead th {\n",
       "        text-align: right;\n",
       "    }\n",
       "</style>\n",
       "<table border=\"1\" class=\"dataframe\">\n",
       "  <thead>\n",
       "    <tr style=\"text-align: right;\">\n",
       "      <th></th>\n",
       "      <th>protein1</th>\n",
       "      <th>protein2</th>\n",
       "      <th>cost</th>\n",
       "    </tr>\n",
       "  </thead>\n",
       "  <tbody>\n",
       "    <tr>\n",
       "      <th>0</th>\n",
       "      <td>ZNF91</td>\n",
       "      <td>NDEL1</td>\n",
       "      <td>1.253</td>\n",
       "    </tr>\n",
       "    <tr>\n",
       "      <th>1</th>\n",
       "      <td>ZNF91</td>\n",
       "      <td>ELAVL1</td>\n",
       "      <td>1.254</td>\n",
       "    </tr>\n",
       "    <tr>\n",
       "      <th>2</th>\n",
       "      <td>ZNF91</td>\n",
       "      <td>SUMO1</td>\n",
       "      <td>1.245</td>\n",
       "    </tr>\n",
       "    <tr>\n",
       "      <th>3</th>\n",
       "      <td>ZNF91</td>\n",
       "      <td>SUMO3</td>\n",
       "      <td>1.245</td>\n",
       "    </tr>\n",
       "    <tr>\n",
       "      <th>4</th>\n",
       "      <td>ZNF91</td>\n",
       "      <td>CHMP5</td>\n",
       "      <td>1.241</td>\n",
       "    </tr>\n",
       "  </tbody>\n",
       "</table>\n",
       "</div>"
      ],
      "text/plain": [
       "  protein1 protein2   cost\n",
       "0    ZNF91    NDEL1  1.253\n",
       "1    ZNF91   ELAVL1  1.254\n",
       "2    ZNF91    SUMO1  1.245\n",
       "3    ZNF91    SUMO3  1.245\n",
       "4    ZNF91    CHMP5  1.241"
      ]
     },
     "execution_count": 4,
     "metadata": {},
     "output_type": "execute_result"
    }
   ],
   "source": [
    "inbiomap_experimentally = pd.read_csv(interactome_path, sep='\\t', names=['protein1','protein2','cost'])\n",
    "inbiomap_experimentally_graph = nx.from_pandas_edgelist(inbiomap_experimentally, 'protein1', 'protein2', edge_attr=['cost'])\n",
    "inbiomap_experimentally.head()"
   ]
  },
  {
   "cell_type": "code",
   "execution_count": 5,
   "metadata": {},
   "outputs": [
    {
     "data": {
      "text/plain": [
       "array([[    0,  1228],\n",
       "       [    0,  1279],\n",
       "       [    0,  4071],\n",
       "       ...,\n",
       "       [14190, 14237],\n",
       "       [14191, 14378],\n",
       "       [14192, 14539]])"
      ]
     },
     "execution_count": 5,
     "metadata": {},
     "output_type": "execute_result"
    }
   ],
   "source": [
    "(edges, nodes) = pd.factorize(inbiomap_experimentally[[\"protein1\",\"protein2\"]].unstack())\n",
    "edges = edges.reshape(inbiomap_experimentally[[\"protein1\",\"protein2\"]].shape, order='F')\n",
    "edges"
   ]
  },
  {
   "cell_type": "markdown",
   "metadata": {},
   "source": [
    "### IV. Prepare Dataset"
   ]
  },
  {
   "cell_type": "code",
   "execution_count": 6,
   "metadata": {},
   "outputs": [
    {
     "data": {
      "text/plain": [
       "Index(['ZNF91', 'NDEL1', 'ELAVL1', 'SUMO1', 'SUMO3', 'CHMP5', 'UBC', 'HTT',\n",
       "       'E2F4', 'ACP5',\n",
       "       ...\n",
       "       'SPANXN4', 'ZNF605', 'SERPINB10', 'ANKAR', 'RRH', 'DHH', 'CYSLTR1',\n",
       "       'ZNF268', 'COL23A1', 'MEDAG'],\n",
       "      dtype='object', length=16349)"
      ]
     },
     "execution_count": 6,
     "metadata": {},
     "output_type": "execute_result"
    }
   ],
   "source": [
    "dataset.columns"
   ]
  },
  {
   "cell_type": "code",
   "execution_count": 7,
   "metadata": {},
   "outputs": [
    {
     "data": {
      "text/plain": [
       "Index(['ZNF91', 'ACP5', 'SLC27A2', 'PAX9', 'ADAM15', 'ELOVL2', 'DDX60L',\n",
       "       'FGF7', 'CDHR5', 'LYPD3',\n",
       "       ...\n",
       "       'CNR2', 'GIG44', 'LINC00588', 'TAAR2', 'CHRNE', 'ANKAR', 'DHH',\n",
       "       'CYSLTR1', 'COL23A1', 'MEDAG'],\n",
       "      dtype='object', length=16349)"
      ]
     },
     "execution_count": 7,
     "metadata": {},
     "output_type": "execute_result"
    }
   ],
   "source": [
    "nodes"
   ]
  },
  {
   "cell_type": "code",
   "execution_count": 8,
   "metadata": {
    "scrolled": true
   },
   "outputs": [
    {
     "data": {
      "text/html": [
       "<div>\n",
       "<style scoped>\n",
       "    .dataframe tbody tr th:only-of-type {\n",
       "        vertical-align: middle;\n",
       "    }\n",
       "\n",
       "    .dataframe tbody tr th {\n",
       "        vertical-align: top;\n",
       "    }\n",
       "\n",
       "    .dataframe thead th {\n",
       "        text-align: right;\n",
       "    }\n",
       "</style>\n",
       "<table border=\"1\" class=\"dataframe\">\n",
       "  <thead>\n",
       "    <tr style=\"text-align: right;\">\n",
       "      <th></th>\n",
       "      <th>ZNF91</th>\n",
       "      <th>ACP5</th>\n",
       "      <th>SLC27A2</th>\n",
       "      <th>PAX9</th>\n",
       "      <th>ADAM15</th>\n",
       "      <th>ELOVL2</th>\n",
       "      <th>DDX60L</th>\n",
       "      <th>FGF7</th>\n",
       "      <th>CDHR5</th>\n",
       "      <th>LYPD3</th>\n",
       "      <th>...</th>\n",
       "      <th>CNR2</th>\n",
       "      <th>GIG44</th>\n",
       "      <th>LINC00588</th>\n",
       "      <th>TAAR2</th>\n",
       "      <th>CHRNE</th>\n",
       "      <th>ANKAR</th>\n",
       "      <th>DHH</th>\n",
       "      <th>CYSLTR1</th>\n",
       "      <th>COL23A1</th>\n",
       "      <th>MEDAG</th>\n",
       "    </tr>\n",
       "  </thead>\n",
       "  <tbody>\n",
       "    <tr>\n",
       "      <th>hsa04110</th>\n",
       "      <td>0.0</td>\n",
       "      <td>-0.309654</td>\n",
       "      <td>-0.465889</td>\n",
       "      <td>-0.0</td>\n",
       "      <td>0.248297</td>\n",
       "      <td>-0.0</td>\n",
       "      <td>-0.733481</td>\n",
       "      <td>0.0</td>\n",
       "      <td>-0.0</td>\n",
       "      <td>0.301864</td>\n",
       "      <td>...</td>\n",
       "      <td>0.0</td>\n",
       "      <td>0.0</td>\n",
       "      <td>0.0</td>\n",
       "      <td>0.0</td>\n",
       "      <td>0.0</td>\n",
       "      <td>0.0</td>\n",
       "      <td>0.0</td>\n",
       "      <td>0.0</td>\n",
       "      <td>0.0</td>\n",
       "      <td>0.0</td>\n",
       "    </tr>\n",
       "    <tr>\n",
       "      <th>hsa04110</th>\n",
       "      <td>-0.0</td>\n",
       "      <td>0.312078</td>\n",
       "      <td>-0.133484</td>\n",
       "      <td>0.0</td>\n",
       "      <td>-0.098908</td>\n",
       "      <td>0.0</td>\n",
       "      <td>-0.072859</td>\n",
       "      <td>0.0</td>\n",
       "      <td>-0.0</td>\n",
       "      <td>-0.137809</td>\n",
       "      <td>...</td>\n",
       "      <td>0.0</td>\n",
       "      <td>0.0</td>\n",
       "      <td>0.0</td>\n",
       "      <td>0.0</td>\n",
       "      <td>0.0</td>\n",
       "      <td>0.0</td>\n",
       "      <td>0.0</td>\n",
       "      <td>0.0</td>\n",
       "      <td>0.0</td>\n",
       "      <td>0.0</td>\n",
       "    </tr>\n",
       "    <tr>\n",
       "      <th>negative</th>\n",
       "      <td>-0.0</td>\n",
       "      <td>-0.604446</td>\n",
       "      <td>0.158134</td>\n",
       "      <td>-0.0</td>\n",
       "      <td>0.367447</td>\n",
       "      <td>-0.0</td>\n",
       "      <td>-0.497150</td>\n",
       "      <td>-0.0</td>\n",
       "      <td>0.0</td>\n",
       "      <td>-0.753135</td>\n",
       "      <td>...</td>\n",
       "      <td>0.0</td>\n",
       "      <td>0.0</td>\n",
       "      <td>0.0</td>\n",
       "      <td>0.0</td>\n",
       "      <td>0.0</td>\n",
       "      <td>0.0</td>\n",
       "      <td>0.0</td>\n",
       "      <td>0.0</td>\n",
       "      <td>0.0</td>\n",
       "      <td>0.0</td>\n",
       "    </tr>\n",
       "    <tr>\n",
       "      <th>hsa04110</th>\n",
       "      <td>-0.0</td>\n",
       "      <td>-0.416877</td>\n",
       "      <td>-0.277561</td>\n",
       "      <td>-0.0</td>\n",
       "      <td>1.229557</td>\n",
       "      <td>-0.0</td>\n",
       "      <td>0.450307</td>\n",
       "      <td>0.0</td>\n",
       "      <td>0.0</td>\n",
       "      <td>-0.393031</td>\n",
       "      <td>...</td>\n",
       "      <td>0.0</td>\n",
       "      <td>0.0</td>\n",
       "      <td>0.0</td>\n",
       "      <td>0.0</td>\n",
       "      <td>0.0</td>\n",
       "      <td>0.0</td>\n",
       "      <td>0.0</td>\n",
       "      <td>0.0</td>\n",
       "      <td>0.0</td>\n",
       "      <td>0.0</td>\n",
       "    </tr>\n",
       "    <tr>\n",
       "      <th>hsa04110</th>\n",
       "      <td>0.0</td>\n",
       "      <td>-0.616325</td>\n",
       "      <td>-0.081220</td>\n",
       "      <td>0.0</td>\n",
       "      <td>0.366697</td>\n",
       "      <td>-0.0</td>\n",
       "      <td>0.932978</td>\n",
       "      <td>0.0</td>\n",
       "      <td>-0.0</td>\n",
       "      <td>0.016254</td>\n",
       "      <td>...</td>\n",
       "      <td>0.0</td>\n",
       "      <td>0.0</td>\n",
       "      <td>0.0</td>\n",
       "      <td>0.0</td>\n",
       "      <td>0.0</td>\n",
       "      <td>0.0</td>\n",
       "      <td>0.0</td>\n",
       "      <td>0.0</td>\n",
       "      <td>0.0</td>\n",
       "      <td>0.0</td>\n",
       "    </tr>\n",
       "  </tbody>\n",
       "</table>\n",
       "<p>5 rows × 16349 columns</p>\n",
       "</div>"
      ],
      "text/plain": [
       "          ZNF91      ACP5   SLC27A2  PAX9    ADAM15  ELOVL2    DDX60L  FGF7  \\\n",
       "hsa04110    0.0 -0.309654 -0.465889  -0.0  0.248297    -0.0 -0.733481   0.0   \n",
       "hsa04110   -0.0  0.312078 -0.133484   0.0 -0.098908     0.0 -0.072859   0.0   \n",
       "negative   -0.0 -0.604446  0.158134  -0.0  0.367447    -0.0 -0.497150  -0.0   \n",
       "hsa04110   -0.0 -0.416877 -0.277561  -0.0  1.229557    -0.0  0.450307   0.0   \n",
       "hsa04110    0.0 -0.616325 -0.081220   0.0  0.366697    -0.0  0.932978   0.0   \n",
       "\n",
       "          CDHR5     LYPD3  ...    CNR2  GIG44  LINC00588  TAAR2  CHRNE  ANKAR  \\\n",
       "hsa04110   -0.0  0.301864  ...     0.0    0.0        0.0    0.0    0.0    0.0   \n",
       "hsa04110   -0.0 -0.137809  ...     0.0    0.0        0.0    0.0    0.0    0.0   \n",
       "negative    0.0 -0.753135  ...     0.0    0.0        0.0    0.0    0.0    0.0   \n",
       "hsa04110    0.0 -0.393031  ...     0.0    0.0        0.0    0.0    0.0    0.0   \n",
       "hsa04110   -0.0  0.016254  ...     0.0    0.0        0.0    0.0    0.0    0.0   \n",
       "\n",
       "          DHH  CYSLTR1  COL23A1  MEDAG  \n",
       "hsa04110  0.0      0.0      0.0    0.0  \n",
       "hsa04110  0.0      0.0      0.0    0.0  \n",
       "negative  0.0      0.0      0.0    0.0  \n",
       "hsa04110  0.0      0.0      0.0    0.0  \n",
       "hsa04110  0.0      0.0      0.0    0.0  \n",
       "\n",
       "[5 rows x 16349 columns]"
      ]
     },
     "execution_count": 8,
     "metadata": {},
     "output_type": "execute_result"
    }
   ],
   "source": [
    "dataset = dataset.transpose().reindex(index=nodes).transpose()\n",
    "X = dataset.values\n",
    "dataset.head()"
   ]
  },
  {
   "cell_type": "markdown",
   "metadata": {},
   "source": [
    "### Groups are every one-hop neighborhood"
   ]
  },
  {
   "cell_type": "code",
   "execution_count": 9,
   "metadata": {},
   "outputs": [],
   "source": [
    "neighborhoods = [[i]+[nodes.get_loc(neighbor) for neighbor in inbiomap_experimentally_graph.neighbors(node)] for i, node in enumerate(nodes)]"
   ]
  },
  {
   "cell_type": "markdown",
   "metadata": {},
   "source": [
    "### VI. Try SRIG via the [SPAMS](http://spams-devel.gforge.inria.fr/) library"
   ]
  },
  {
   "cell_type": "code",
   "execution_count": 10,
   "metadata": {},
   "outputs": [],
   "source": [
    "import spams\n",
    "import scipy.sparse as ssp"
   ]
  },
  {
   "cell_type": "code",
   "execution_count": 11,
   "metadata": {},
   "outputs": [],
   "source": [
    "num_groups = len(neighborhoods)"
   ]
  },
  {
   "cell_type": "code",
   "execution_count": 12,
   "metadata": {},
   "outputs": [],
   "source": [
    "#       graph: struct\n",
    "#             with three fields, eta_g, groups, and groups_var\n",
    "#             \n",
    "#             The first fields sets the weights for every group\n",
    "#                graph.eta_g            double N vector \n",
    "#\n",
    "eta_g = np.ones(num_groups)\n",
    "#                \n",
    "#             The next field sets inclusion relations between groups \n",
    "#             (but not between groups and variables):\n",
    "#                graph.groups           sparse (double or boolean) N x N matrix  \n",
    "#                the (i,j) entry is non-zero if and only if i is different than j and \n",
    "#                gi is included in gj.\n",
    "#                \n",
    "groups = scipy.sparse.csc_matrix(np.zeros((num_groups,num_groups)),dtype=np.bool)"
   ]
  },
  {
   "cell_type": "code",
   "execution_count": 13,
   "metadata": {},
   "outputs": [],
   "source": [
    "data, (i_j) = zip(*flatten([[ (1,(i,j)) for j in neighborhood ] for i, neighborhood in enumerate(neighborhoods)]))\n",
    "i, j = zip(*i_j)"
   ]
  },
  {
   "cell_type": "code",
   "execution_count": 14,
   "metadata": {},
   "outputs": [],
   "source": [
    "#\n",
    "#             The next field sets inclusion relations between groups and variables\n",
    "#                graph.groups_var       sparse (double or boolean) p x N matrix\n",
    "#                the (i,j) entry is non-zero if and only if the variable i is included \n",
    "#                in gj, but not in any children of gj.\n",
    "#\n",
    "groups_var = scipy.sparse.csc_matrix((data,(i,j)),dtype=np.bool)\n",
    "#\n",
    "#       graph: struct\n",
    "#             with three fields, eta_g, groups, and groups_var\n",
    "#             \n",
    "graph = {'eta_g':eta_g,'groups':groups,'groups_var':groups_var}"
   ]
  },
  {
   "cell_type": "code",
   "execution_count": 15,
   "metadata": {},
   "outputs": [
    {
     "data": {
      "text/plain": [
       "array([1., 1., 1., ..., 1., 1., 1.])"
      ]
     },
     "execution_count": 15,
     "metadata": {},
     "output_type": "execute_result"
    }
   ],
   "source": [
    "graph['eta_g']"
   ]
  },
  {
   "cell_type": "code",
   "execution_count": 16,
   "metadata": {},
   "outputs": [
    {
     "data": {
      "text/plain": [
       "<16349x16349 sparse matrix of type '<class 'numpy.bool_'>'\n",
       "\twith 0 stored elements in Compressed Sparse Column format>"
      ]
     },
     "execution_count": 16,
     "metadata": {},
     "output_type": "execute_result"
    }
   ],
   "source": [
    "graph['groups']"
   ]
  },
  {
   "cell_type": "code",
   "execution_count": 17,
   "metadata": {},
   "outputs": [
    {
     "data": {
      "text/plain": [
       "<16349x16349 sparse matrix of type '<class 'numpy.bool_'>'\n",
       "\twith 494957 stored elements in Compressed Sparse Column format>"
      ]
     },
     "execution_count": 17,
     "metadata": {},
     "output_type": "execute_result"
    }
   ],
   "source": [
    "graph['groups_var']"
   ]
  },
  {
   "cell_type": "markdown",
   "metadata": {},
   "source": [
    "#### Documentation for spams.fistaGraph"
   ]
  },
  {
   "cell_type": "code",
   "execution_count": 18,
   "metadata": {},
   "outputs": [],
   "source": [
    "#\n",
    "# Name: fistaGraph\n",
    "#\n",
    "# Usage: spams.fistaGraph(  Y\n",
    "#                           X\n",
    "#                           W0\n",
    "#                           graph\n",
    "#                           return_optim_info=False\n",
    "#                           numThreads=-1\n",
    "#                           max_it=1000\n",
    "#                           L0=1.0\n",
    "#                           fixed_step=False\n",
    "#                           gamma=1.5\n",
    "#                           lambda1=1.0\n",
    "#                           delta=1.0\n",
    "#                           lambda2=0.\n",
    "#                           lambda3=0.\n",
    "#                           a=1.0\n",
    "#                           b=0.\n",
    "#                           c=1.0\n",
    "#                           tol=0.000001\n",
    "#                           it0=100\n",
    "#                           max_iter_backtracking=1000\n",
    "#                           compute_gram=False\n",
    "#                           lin_admm=False\n",
    "#                           admm=False\n",
    "#                           intercept=False\n",
    "#                           resetflow=False\n",
    "#                           regul=\"\"\n",
    "#                           loss=\"\"\n",
    "#                           verbose=False\n",
    "#                           pos=False\n",
    "#                           clever=False\n",
    "#                           log=False\n",
    "#                           ista=False\n",
    "#                           subgrad=False\n",
    "#                           logName=\"\"\n",
    "#                           is_inner_weights=False\n",
    "#                           inner_weights=None\n",
    "#                           size_group=1\n",
    "#                           sqrt_step=True\n",
    "#                           transpose=False\n",
    "#                           linesearch_mode=0)\n",
    "#\n",
    "# Description:\n",
    "#     fistaGraph solves sparse regularized problems.\n",
    "#         X is a design matrix of size m x p\n",
    "#         X=[x^1...,x^n]', where the x_i's are the rows of X\n",
    "#         Y=[y^1,...,y^n] is a matrix of size m x n\n",
    "#         \n",
    "#         It implements the algorithms FISTA, ISTA and subgradient descent for solving\n",
    "#         \n",
    "#           min_W  loss(W) + lambda1 psi(W)\n",
    "#           \n",
    "#         The function psi are those used by proximalGraph (see documentation)\n",
    "#         for the loss functions, see the documentation of fistaFlat\n",
    "#         \n",
    "#         This function can also handle intercepts (last row of W is not regularized),\n",
    "#         and/or non-negativity constraints on W.\n",
    "#\n",
    "# Inputs:\n",
    "#       Y                : double dense m x n matrix\n",
    "#       X                : double dense or sparse m x p matrix   \n",
    "#       W0               : double dense p x n matrix or p x Nn matrix (for multi-logistic loss) initial guess\n",
    "#       graph            : struct (see documentation of proximalGraph)\n",
    "#       return_optim_info: if true the function will return a tuple of matrices.\n",
    "#       loss             : (choice of loss, see above)\n",
    "#       regul            : (choice of regularization, see function proximalFlat)\n",
    "#       lambda1          : (regularization parameter)\n",
    "#       lambda2          : (optional, regularization parameter, 0 by default)\n",
    "#       lambda3          : (optional, regularization parameter, 0 by default)\n",
    "#       verbose          : (optional, verbosity level, false by default)\n",
    "#       pos              : (optional, adds positivity constraints on the coefficients, false by default)\n",
    "#       numThreads       : (optional, number of threads for exploiting multi-core / multi-cpus. By default, it takes the value -1, which automatically selects all the available CPUs/cores).\n",
    "#       max_it           : (optional, maximum number of iterations, 100 by default)\n",
    "#       it0              : (optional, frequency for computing duality gap, every 10 iterations by default)\n",
    "#       tol              : (optional, tolerance for stopping criteration, which is a relative duality gap if it is available, or a relative change of parameters).\n",
    "#       gamma            : (optional, multiplier for increasing the parameter L in fista, 1.5 by default)\n",
    "#       L0               : (optional, initial parameter L in fista, 0.1 by default, should be small enough)\n",
    "#       fixed_step       : (deactive the line search for L in fista and use L0 instead)\n",
    "#       compute_gram     : (optional, pre-compute X^TX, false by default).\n",
    "#       intercept        : (optional, do not regularize last row of W, false by default).\n",
    "#       ista             : (optional, use ista instead of fista, false by default).\n",
    "#       subgrad          : (optional, if not ista, use subradient descent instead of fista, false by default).\n",
    "#       a                : \n",
    "#       b                : (optional, if subgrad, the gradient step is a/(t+b) also similar options as proximalTree\n",
    "#       \n",
    "#       the function also implements the ADMM algorithm via an option admm=true. It is not documented and you need to look at the source code to use it.\n",
    "#\n",
    "#       delta                : undocumented; modify at your own risks!\n",
    "#       c                    : undocumented; modify at your own risks!\n",
    "#       max_iter_backtracking: undocumented; modify at your own risks!\n",
    "#       lin_admm             : undocumented; modify at your own risks!\n",
    "#       admm                 : undocumented; modify at your own risks!\n",
    "#       resetflow            : undocumented; modify at your own risks!\n",
    "#       clever               : undocumented; modify at your own risks!\n",
    "#       log                  : undocumented; modify at your own risks!\n",
    "#       logName              : undocumented; modify at your own risks!\n",
    "#       is_inner_weights     : undocumented; modify at your own risks!\n",
    "#       inner_weights        : undocumented; modify at your own risks!\n",
    "#       sqrt_step            : undocumented; modify at your own risks!\n",
    "#       size_group           : undocumented; modify at your own risks!\n",
    "#       transpose            : undocumented; modify at your own risks!\n",
    "#\n",
    "# Output:\n",
    "#       W:  double dense p x n matrix or p x Nn matrix (for multi-logistic loss)\n",
    "#       optim: optional, double dense 4 x n matrix.\n",
    "#           first row: values of the objective functions.\n",
    "#           third row: values of the relative duality gap (if available)\n",
    "#           fourth row: number of iterations\n",
    "#       optim_info:        vector of size 4, containing information of the optimization.\n",
    "#             W = spams.fistaGraph(Y,X,W0,graph,return_optim_info = False,...)\n",
    "#             (W,optim_info) = spams.fistaGraph(Y,X,W0,graph,return_optim_info = True,...)\n",
    "#"
   ]
  },
  {
   "cell_type": "code",
   "execution_count": 19,
   "metadata": {},
   "outputs": [],
   "source": [
    "X = dataset.values\n",
    "X = spams.normalize(X)"
   ]
  },
  {
   "cell_type": "code",
   "execution_count": 20,
   "metadata": {},
   "outputs": [],
   "source": [
    "Y = np.asfortranarray(np.expand_dims(y, axis=1)).astype(float)\n",
    "Y = spams.normalize(Y)"
   ]
  },
  {
   "cell_type": "code",
   "execution_count": 21,
   "metadata": {},
   "outputs": [],
   "source": [
    "W0 = np.zeros((X.shape[1],Y.shape[1]),dtype=np.float64,order=\"F\")"
   ]
  },
  {
   "cell_type": "code",
   "execution_count": 23,
   "metadata": {},
   "outputs": [
    {
     "name": "stdout",
     "output_type": "stream",
     "text": [
      "mean loss: 0.500000, mean relative duality_gap: 0.000000, time: 3.780687, number of iterations: 100.000000\n"
     ]
    }
   ],
   "source": [
    "verbose      = True\n",
    "num_threads  = -1      # all cores (-1 by default)\n",
    "lambda1      = 0.1     # regularization ter\n",
    "it0          = 1       # frequency for duality gap computations\n",
    "max_it       = 100     # maximum number of iterations\n",
    "L0           = 0.1\n",
    "tol          = 1e-5\n",
    "intercept    = False\n",
    "pos          = False\n",
    "compute_gram = True\n",
    "\n",
    "loss         = 'square'\n",
    "regul        = 'graph'\n",
    "tic          = time.time()\n",
    "(W, optim_info) = spams.fistaGraph(Y, X, W0, graph, True, loss=loss, regul=regul, verbose=verbose)\n",
    "tac = time.time()\n",
    "t = tac - tic\n",
    "print('mean loss: %f, mean relative duality_gap: %f, time: %f, number of iterations: %f' %(np.mean(optim_info[0,:]),np.mean(optim_info[2,:]),t,np.mean(optim_info[3,:])))"
   ]
  },
  {
   "cell_type": "code",
   "execution_count": 38,
   "metadata": {},
   "outputs": [
    {
     "data": {
      "text/plain": [
       "0    False\n",
       "dtype: bool"
      ]
     },
     "execution_count": 38,
     "metadata": {},
     "output_type": "execute_result"
    }
   ],
   "source": [
    "W = pd.DataFrame(W)\n",
    "W[W != 0].any()"
   ]
  },
  {
   "cell_type": "code",
   "execution_count": null,
   "metadata": {},
   "outputs": [],
   "source": []
  },
  {
   "cell_type": "code",
   "execution_count": null,
   "metadata": {},
   "outputs": [],
   "source": []
  },
  {
   "cell_type": "code",
   "execution_count": null,
   "metadata": {},
   "outputs": [],
   "source": []
  },
  {
   "cell_type": "code",
   "execution_count": null,
   "metadata": {},
   "outputs": [],
   "source": []
  },
  {
   "cell_type": "code",
   "execution_count": null,
   "metadata": {},
   "outputs": [],
   "source": []
  },
  {
   "cell_type": "code",
   "execution_count": null,
   "metadata": {},
   "outputs": [],
   "source": []
  },
  {
   "cell_type": "code",
   "execution_count": null,
   "metadata": {},
   "outputs": [],
   "source": []
  },
  {
   "cell_type": "markdown",
   "metadata": {},
   "source": [
    "### V. Try SRIG via the [PyLearn-ParsimonY](https://github.com/neurospin/pylearn-parsimony) library"
   ]
  },
  {
   "cell_type": "code",
   "execution_count": 40,
   "metadata": {
    "collapsed": true
   },
   "outputs": [],
   "source": [
    "import parsimony.estimators as estimators\n",
    "import parsimony.algorithms as algorithms\n",
    "import parsimony.functions.nesterov.gl as gl\n",
    "k = 0.0  # l2 ridge regression coefficient\n",
    "l = 0.1  # l1 lasso coefficient\n",
    "g = 0.1  # group lasso coefficient\n",
    "num_ft = len(nodes)"
   ]
  },
  {
   "cell_type": "code",
   "execution_count": 41,
   "metadata": {},
   "outputs": [
    {
     "name": "stdout",
     "output_type": "stream",
     "text": [
      "Estimated prediction rate = 0.5\n"
     ]
    }
   ],
   "source": [
    "A = gl.linear_operator_from_groups(num_ft, neighborhoods)\n",
    "estimator = estimators.LogisticRegressionL1L2GL(\n",
    "                                      k, l, g, A=A,\n",
    "                                      algorithm=algorithms.proximal.FISTA(),\n",
    "                                      algorithm_params=dict(max_iter=1000))\n",
    "res = estimator.fit(X, y)\n",
    "print(\"Estimated prediction rate =\", estimator.score(X, y))"
   ]
  }
 ],
 "metadata": {
  "kernelspec": {
   "display_name": "Python 3",
   "language": "python",
   "name": "python3"
  },
  "language_info": {
   "codemirror_mode": {
    "name": "ipython",
    "version": 3
   },
   "file_extension": ".py",
   "mimetype": "text/x-python",
   "name": "python",
   "nbconvert_exporter": "python",
   "pygments_lexer": "ipython3",
   "version": "3.7.1"
  }
 },
 "nbformat": 4,
 "nbformat_minor": 2
}
