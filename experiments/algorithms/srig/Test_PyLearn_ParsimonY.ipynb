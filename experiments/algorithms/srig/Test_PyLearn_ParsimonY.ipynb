{
 "cells": [
  {
   "cell_type": "markdown",
   "metadata": {},
   "source": [
    "## Try SRIG via the [PyLearn-ParsimonY](https://github.com/neurospin/pylearn-parsimony) library"
   ]
  },
  {
   "cell_type": "code",
   "execution_count": null,
   "metadata": {},
   "outputs": [],
   "source": [
    "import parsimony.estimators as estimators\n",
    "import parsimony.algorithms as algorithms\n",
    "import parsimony.functions.nesterov.gl as gl\n",
    "k = 0.0  # l2 ridge regression coefficient\n",
    "l = 0.1  # l1 lasso coefficient\n",
    "g = 0.1  # group lasso coefficient\n",
    "num_ft = len(nodes)"
   ]
  },
  {
   "cell_type": "code",
   "execution_count": null,
   "metadata": {},
   "outputs": [],
   "source": [
    "A = gl.linear_operator_from_groups(num_ft, neighborhoods)\n",
    "estimator = estimators.LogisticRegressionL1L2GL(\n",
    "                                      k, l, g, A=A,\n",
    "                                      algorithm=algorithms.proximal.FISTA(),\n",
    "                                      algorithm_params=dict(max_iter=1000))\n",
    "res = estimator.fit(X, y)\n",
    "print(\"Estimated prediction rate =\", estimator.score(X, y))"
   ]
  }
 ],
 "metadata": {
  "kernelspec": {
   "display_name": "Python 3",
   "language": "python",
   "name": "python3"
  },
  "language_info": {
   "codemirror_mode": {
    "name": "ipython",
    "version": 3
   },
   "file_extension": ".py",
   "mimetype": "text/x-python",
   "name": "python",
   "nbconvert_exporter": "python",
   "pygments_lexer": "ipython3",
   "version": "3.7.1"
  }
 },
 "nbformat": 4,
 "nbformat_minor": 2
}
