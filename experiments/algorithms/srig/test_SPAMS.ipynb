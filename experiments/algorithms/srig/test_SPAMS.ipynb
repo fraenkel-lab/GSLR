{
 "cells": [
  {
   "cell_type": "markdown",
   "metadata": {},
   "source": [
    "# Test SPAMS.fistaGraph\n",
    "\n",
    "Docs http://spams-devel.gforge.inria.fr/doc-R/html/doc_spams006.html#sec39"
   ]
  },
  {
   "cell_type": "code",
   "execution_count": 1,
   "metadata": {},
   "outputs": [],
   "source": [
    "%matplotlib inline\n",
    "import numpy as np\n",
    "import pandas as pd\n",
    "import networkx as nx\n",
    "import scipy\n",
    "import scipy.sparse as ssp\n",
    "\n",
    "import time\n",
    "import spams\n",
    "\n",
    "def flatten(list_of_lists): return [item for sublist in list_of_lists for item in sublist]\n"
   ]
  },
  {
   "cell_type": "markdown",
   "metadata": {},
   "source": [
    "## I. Generate synthetic \"easy\" graph and graph signals"
   ]
  },
  {
   "cell_type": "code",
   "execution_count": 2,
   "metadata": {},
   "outputs": [],
   "source": [
    "num_nodes = 15\n",
    "p_edge = 0.3\n",
    "g1 = nx.fast_gnp_random_graph(num_nodes, p_edge)\n",
    "g2 = nx.fast_gnp_random_graph(num_nodes, p_edge)\n",
    "\n",
    "nx.relabel_nodes(g2, {number: number + 15 for number in g2.nodes}, copy=False)\n",
    "\n",
    "g = nx.compose(g1, g2)\n",
    "\n",
    "g.add_edge(1, 25)\n",
    "g.add_edge(2, 20)\n",
    "g.add_edge(3, 15)"
   ]
  },
  {
   "cell_type": "code",
   "execution_count": 3,
   "metadata": {},
   "outputs": [
    {
     "name": "stderr",
     "output_type": "stream",
     "text": [
      "/Users/alex/miniconda3/lib/python3.7/site-packages/networkx/drawing/nx_pylab.py:611: MatplotlibDeprecationWarning: isinstance(..., numbers.Number)\n",
      "  if cb.is_numlike(alpha):\n"
     ]
    },
    {
     "data": {
      "image/png": "[encoded data removed]",
      "text/plain": [
       "<Figure size 432x288 with 1 Axes>"
      ]
     },
     "metadata": {},
     "output_type": "display_data"
    }
   ],
   "source": [
    "nx.draw_spring(g)"
   ]
  },
  {
   "cell_type": "code",
   "execution_count": 4,
   "metadata": {},
   "outputs": [],
   "source": [
    "edgelist = nx.to_pandas_edgelist(g).values"
   ]
  },
  {
   "cell_type": "markdown",
   "metadata": {},
   "source": [
    "#### True signal comes from 0 and its neighbors"
   ]
  },
  {
   "cell_type": "code",
   "execution_count": 5,
   "metadata": {},
   "outputs": [
    {
     "data": {
      "text/plain": [
       "[0, 3, 5, 6, 9, 13, 14]"
      ]
     },
     "execution_count": 5,
     "metadata": {},
     "output_type": "execute_result"
    }
   ],
   "source": [
    "signal_nodes = [0]+[n for n in g.neighbors(0)]\n",
    "signal_nodes"
   ]
  },
  {
   "cell_type": "markdown",
   "metadata": {},
   "source": [
    "#### First half is class 1, second half is class 0"
   ]
  },
  {
   "cell_type": "code",
   "execution_count": 6,
   "metadata": {},
   "outputs": [
    {
     "data": {
      "text/plain": [
       "array([1., 1., 1., 1., 1., 1., 1., 1., 1., 1., 1., 1., 1., 1., 1., 1., 1.,\n",
       "       1., 1., 1., 0., 0., 0., 0., 0., 0., 0., 0., 0., 0., 0., 0., 0., 0.,\n",
       "       0., 0., 0., 0., 0., 0.])"
      ]
     },
     "execution_count": 6,
     "metadata": {},
     "output_type": "execute_result"
    }
   ],
   "source": [
    "NUM_POSITIVES = 20\n",
    "NUM_NEGATIVES = 20\n",
    "y = np.concatenate((np.ones(NUM_POSITIVES), np.zeros(NUM_NEGATIVES)))\n",
    "y"
   ]
  },
  {
   "cell_type": "code",
   "execution_count": 7,
   "metadata": {},
   "outputs": [
    {
     "data": {
      "text/html": [
       "<div>\n",
       "<style scoped>\n",
       "    .dataframe tbody tr th:only-of-type {\n",
       "        vertical-align: middle;\n",
       "    }\n",
       "\n",
       "    .dataframe tbody tr th {\n",
       "        vertical-align: top;\n",
       "    }\n",
       "\n",
       "    .dataframe thead th {\n",
       "        text-align: right;\n",
       "    }\n",
       "</style>\n",
       "<table border=\"1\" class=\"dataframe\">\n",
       "  <thead>\n",
       "    <tr style=\"text-align: right;\">\n",
       "      <th></th>\n",
       "      <th>0</th>\n",
       "      <th>1</th>\n",
       "      <th>2</th>\n",
       "      <th>3</th>\n",
       "      <th>4</th>\n",
       "      <th>5</th>\n",
       "      <th>6</th>\n",
       "      <th>7</th>\n",
       "      <th>8</th>\n",
       "      <th>9</th>\n",
       "      <th>...</th>\n",
       "      <th>20</th>\n",
       "      <th>21</th>\n",
       "      <th>22</th>\n",
       "      <th>23</th>\n",
       "      <th>24</th>\n",
       "      <th>25</th>\n",
       "      <th>26</th>\n",
       "      <th>27</th>\n",
       "      <th>28</th>\n",
       "      <th>29</th>\n",
       "    </tr>\n",
       "  </thead>\n",
       "  <tbody>\n",
       "    <tr>\n",
       "      <th>0</th>\n",
       "      <td>1.0</td>\n",
       "      <td>1.019428</td>\n",
       "      <td>1.614415</td>\n",
       "      <td>1.0</td>\n",
       "      <td>1.399365</td>\n",
       "      <td>1.0</td>\n",
       "      <td>1.0</td>\n",
       "      <td>0.210881</td>\n",
       "      <td>-0.606105</td>\n",
       "      <td>1.0</td>\n",
       "      <td>...</td>\n",
       "      <td>0.855296</td>\n",
       "      <td>-1.034829</td>\n",
       "      <td>0.375864</td>\n",
       "      <td>1.134807</td>\n",
       "      <td>0.903803</td>\n",
       "      <td>-1.179844</td>\n",
       "      <td>1.388919</td>\n",
       "      <td>0.578540</td>\n",
       "      <td>-0.745927</td>\n",
       "      <td>0.099746</td>\n",
       "    </tr>\n",
       "    <tr>\n",
       "      <th>1</th>\n",
       "      <td>1.0</td>\n",
       "      <td>-0.857470</td>\n",
       "      <td>-0.437498</td>\n",
       "      <td>1.0</td>\n",
       "      <td>0.748907</td>\n",
       "      <td>1.0</td>\n",
       "      <td>1.0</td>\n",
       "      <td>0.468305</td>\n",
       "      <td>-2.098387</td>\n",
       "      <td>1.0</td>\n",
       "      <td>...</td>\n",
       "      <td>0.972129</td>\n",
       "      <td>-1.051995</td>\n",
       "      <td>-0.148420</td>\n",
       "      <td>0.173537</td>\n",
       "      <td>-0.760138</td>\n",
       "      <td>0.741562</td>\n",
       "      <td>-0.656624</td>\n",
       "      <td>0.620113</td>\n",
       "      <td>0.827110</td>\n",
       "      <td>0.124408</td>\n",
       "    </tr>\n",
       "    <tr>\n",
       "      <th>2</th>\n",
       "      <td>1.0</td>\n",
       "      <td>3.337884</td>\n",
       "      <td>0.213118</td>\n",
       "      <td>1.0</td>\n",
       "      <td>-1.222974</td>\n",
       "      <td>1.0</td>\n",
       "      <td>1.0</td>\n",
       "      <td>0.458541</td>\n",
       "      <td>-0.490558</td>\n",
       "      <td>1.0</td>\n",
       "      <td>...</td>\n",
       "      <td>1.454418</td>\n",
       "      <td>0.370768</td>\n",
       "      <td>-0.813849</td>\n",
       "      <td>-0.775788</td>\n",
       "      <td>0.905368</td>\n",
       "      <td>0.304070</td>\n",
       "      <td>-1.490844</td>\n",
       "      <td>0.990402</td>\n",
       "      <td>-1.350095</td>\n",
       "      <td>-0.074166</td>\n",
       "    </tr>\n",
       "    <tr>\n",
       "      <th>3</th>\n",
       "      <td>1.0</td>\n",
       "      <td>1.770717</td>\n",
       "      <td>-1.438105</td>\n",
       "      <td>1.0</td>\n",
       "      <td>0.948779</td>\n",
       "      <td>1.0</td>\n",
       "      <td>1.0</td>\n",
       "      <td>-0.021119</td>\n",
       "      <td>-0.566198</td>\n",
       "      <td>1.0</td>\n",
       "      <td>...</td>\n",
       "      <td>0.688157</td>\n",
       "      <td>0.127547</td>\n",
       "      <td>0.637951</td>\n",
       "      <td>0.442807</td>\n",
       "      <td>0.436667</td>\n",
       "      <td>0.581621</td>\n",
       "      <td>0.666964</td>\n",
       "      <td>-0.029700</td>\n",
       "      <td>0.858343</td>\n",
       "      <td>-0.078360</td>\n",
       "    </tr>\n",
       "    <tr>\n",
       "      <th>4</th>\n",
       "      <td>1.0</td>\n",
       "      <td>0.334775</td>\n",
       "      <td>-0.704622</td>\n",
       "      <td>1.0</td>\n",
       "      <td>-0.223871</td>\n",
       "      <td>1.0</td>\n",
       "      <td>1.0</td>\n",
       "      <td>-0.804191</td>\n",
       "      <td>-0.189320</td>\n",
       "      <td>1.0</td>\n",
       "      <td>...</td>\n",
       "      <td>0.258184</td>\n",
       "      <td>-2.303358</td>\n",
       "      <td>0.877038</td>\n",
       "      <td>-0.701020</td>\n",
       "      <td>1.077146</td>\n",
       "      <td>-0.372210</td>\n",
       "      <td>1.305162</td>\n",
       "      <td>0.109794</td>\n",
       "      <td>-0.361061</td>\n",
       "      <td>-0.832382</td>\n",
       "    </tr>\n",
       "  </tbody>\n",
       "</table>\n",
       "<p>5 rows × 30 columns</p>\n",
       "</div>"
      ],
      "text/plain": [
       "    0         1         2    3         4    5    6         7         8    9   \\\n",
       "0  1.0  1.019428  1.614415  1.0  1.399365  1.0  1.0  0.210881 -0.606105  1.0   \n",
       "1  1.0 -0.857470 -0.437498  1.0  0.748907  1.0  1.0  0.468305 -2.098387  1.0   \n",
       "2  1.0  3.337884  0.213118  1.0 -1.222974  1.0  1.0  0.458541 -0.490558  1.0   \n",
       "3  1.0  1.770717 -1.438105  1.0  0.948779  1.0  1.0 -0.021119 -0.566198  1.0   \n",
       "4  1.0  0.334775 -0.704622  1.0 -0.223871  1.0  1.0 -0.804191 -0.189320  1.0   \n",
       "\n",
       "     ...           20        21        22        23        24        25  \\\n",
       "0    ...     0.855296 -1.034829  0.375864  1.134807  0.903803 -1.179844   \n",
       "1    ...     0.972129 -1.051995 -0.148420  0.173537 -0.760138  0.741562   \n",
       "2    ...     1.454418  0.370768 -0.813849 -0.775788  0.905368  0.304070   \n",
       "3    ...     0.688157  0.127547  0.637951  0.442807  0.436667  0.581621   \n",
       "4    ...     0.258184 -2.303358  0.877038 -0.701020  1.077146 -0.372210   \n",
       "\n",
       "         26        27        28        29  \n",
       "0  1.388919  0.578540 -0.745927  0.099746  \n",
       "1 -0.656624  0.620113  0.827110  0.124408  \n",
       "2 -1.490844  0.990402 -1.350095 -0.074166  \n",
       "3  0.666964 -0.029700  0.858343 -0.078360  \n",
       "4  1.305162  0.109794 -0.361061 -0.832382  \n",
       "\n",
       "[5 rows x 30 columns]"
      ]
     },
     "execution_count": 7,
     "metadata": {},
     "output_type": "execute_result"
    }
   ],
   "source": [
    "data = pd.DataFrame(np.random.normal(size=(NUM_POSITIVES+NUM_NEGATIVES,30)))\n",
    "data.loc[0:NUM_POSITIVES, signal_nodes] = 1\n",
    "data.loc[NUM_POSITIVES:NUM_POSITIVES+NUM_NEGATIVES, signal_nodes] = -1\n",
    "\n",
    "data.head()"
   ]
  },
  {
   "cell_type": "code",
   "execution_count": 8,
   "metadata": {},
   "outputs": [
    {
     "data": {
      "text/html": [
       "<div>\n",
       "<style scoped>\n",
       "    .dataframe tbody tr th:only-of-type {\n",
       "        vertical-align: middle;\n",
       "    }\n",
       "\n",
       "    .dataframe tbody tr th {\n",
       "        vertical-align: top;\n",
       "    }\n",
       "\n",
       "    .dataframe thead th {\n",
       "        text-align: right;\n",
       "    }\n",
       "</style>\n",
       "<table border=\"1\" class=\"dataframe\">\n",
       "  <thead>\n",
       "    <tr style=\"text-align: right;\">\n",
       "      <th></th>\n",
       "      <th>0</th>\n",
       "      <th>1</th>\n",
       "      <th>2</th>\n",
       "      <th>3</th>\n",
       "      <th>4</th>\n",
       "      <th>5</th>\n",
       "      <th>6</th>\n",
       "      <th>7</th>\n",
       "      <th>8</th>\n",
       "      <th>9</th>\n",
       "      <th>...</th>\n",
       "      <th>20</th>\n",
       "      <th>21</th>\n",
       "      <th>22</th>\n",
       "      <th>23</th>\n",
       "      <th>24</th>\n",
       "      <th>25</th>\n",
       "      <th>26</th>\n",
       "      <th>27</th>\n",
       "      <th>28</th>\n",
       "      <th>29</th>\n",
       "    </tr>\n",
       "  </thead>\n",
       "  <tbody>\n",
       "    <tr>\n",
       "      <th>35</th>\n",
       "      <td>0.889028</td>\n",
       "      <td>-0.135976</td>\n",
       "      <td>-1.038023</td>\n",
       "      <td>0.880833</td>\n",
       "      <td>-0.532449</td>\n",
       "      <td>0.788646</td>\n",
       "      <td>1.004691</td>\n",
       "      <td>-0.363512</td>\n",
       "      <td>0.328858</td>\n",
       "      <td>1.485710</td>\n",
       "      <td>...</td>\n",
       "      <td>0.174504</td>\n",
       "      <td>0.783425</td>\n",
       "      <td>0.482744</td>\n",
       "      <td>0.976204</td>\n",
       "      <td>1.850524</td>\n",
       "      <td>1.331668</td>\n",
       "      <td>-1.743861</td>\n",
       "      <td>-0.865994</td>\n",
       "      <td>-1.134474</td>\n",
       "      <td>1.428391</td>\n",
       "    </tr>\n",
       "    <tr>\n",
       "      <th>36</th>\n",
       "      <td>-0.275690</td>\n",
       "      <td>-1.011996</td>\n",
       "      <td>0.117843</td>\n",
       "      <td>-0.142990</td>\n",
       "      <td>0.381119</td>\n",
       "      <td>0.466076</td>\n",
       "      <td>-1.475501</td>\n",
       "      <td>0.360003</td>\n",
       "      <td>-0.690849</td>\n",
       "      <td>1.268800</td>\n",
       "      <td>...</td>\n",
       "      <td>1.042920</td>\n",
       "      <td>1.141695</td>\n",
       "      <td>-0.022510</td>\n",
       "      <td>2.087278</td>\n",
       "      <td>-1.043130</td>\n",
       "      <td>-1.407722</td>\n",
       "      <td>-0.238734</td>\n",
       "      <td>-0.475240</td>\n",
       "      <td>1.043414</td>\n",
       "      <td>0.202368</td>\n",
       "    </tr>\n",
       "    <tr>\n",
       "      <th>37</th>\n",
       "      <td>1.439587</td>\n",
       "      <td>0.472499</td>\n",
       "      <td>-0.594670</td>\n",
       "      <td>-1.658792</td>\n",
       "      <td>1.784620</td>\n",
       "      <td>-1.121340</td>\n",
       "      <td>-0.821874</td>\n",
       "      <td>0.788733</td>\n",
       "      <td>0.802940</td>\n",
       "      <td>0.055238</td>\n",
       "      <td>...</td>\n",
       "      <td>-0.256041</td>\n",
       "      <td>-0.522307</td>\n",
       "      <td>1.239174</td>\n",
       "      <td>-2.088828</td>\n",
       "      <td>0.686376</td>\n",
       "      <td>-0.765125</td>\n",
       "      <td>-0.591156</td>\n",
       "      <td>1.218809</td>\n",
       "      <td>2.043956</td>\n",
       "      <td>0.212924</td>\n",
       "    </tr>\n",
       "    <tr>\n",
       "      <th>38</th>\n",
       "      <td>-1.020395</td>\n",
       "      <td>-0.357563</td>\n",
       "      <td>2.093289</td>\n",
       "      <td>0.792226</td>\n",
       "      <td>1.565661</td>\n",
       "      <td>-0.979214</td>\n",
       "      <td>0.611291</td>\n",
       "      <td>0.221775</td>\n",
       "      <td>-1.049961</td>\n",
       "      <td>-0.986638</td>\n",
       "      <td>...</td>\n",
       "      <td>-0.016216</td>\n",
       "      <td>-1.677238</td>\n",
       "      <td>0.617644</td>\n",
       "      <td>-1.150595</td>\n",
       "      <td>-0.367978</td>\n",
       "      <td>2.282345</td>\n",
       "      <td>1.722000</td>\n",
       "      <td>0.068578</td>\n",
       "      <td>-0.286903</td>\n",
       "      <td>-0.448360</td>\n",
       "    </tr>\n",
       "    <tr>\n",
       "      <th>39</th>\n",
       "      <td>-1.057475</td>\n",
       "      <td>2.086639</td>\n",
       "      <td>0.171144</td>\n",
       "      <td>0.314343</td>\n",
       "      <td>0.392864</td>\n",
       "      <td>1.457089</td>\n",
       "      <td>-0.210054</td>\n",
       "      <td>0.506699</td>\n",
       "      <td>-0.666237</td>\n",
       "      <td>-0.358834</td>\n",
       "      <td>...</td>\n",
       "      <td>-1.615841</td>\n",
       "      <td>0.265025</td>\n",
       "      <td>-0.262177</td>\n",
       "      <td>0.126549</td>\n",
       "      <td>-0.312350</td>\n",
       "      <td>-1.000878</td>\n",
       "      <td>0.607869</td>\n",
       "      <td>0.011989</td>\n",
       "      <td>-1.798684</td>\n",
       "      <td>0.134812</td>\n",
       "    </tr>\n",
       "  </tbody>\n",
       "</table>\n",
       "<p>5 rows × 30 columns</p>\n",
       "</div>"
      ],
      "text/plain": [
       "          0         1         2         3         4         5         6   \\\n",
       "35  0.889028 -0.135976 -1.038023  0.880833 -0.532449  0.788646  1.004691   \n",
       "36 -0.275690 -1.011996  0.117843 -0.142990  0.381119  0.466076 -1.475501   \n",
       "37  1.439587  0.472499 -0.594670 -1.658792  1.784620 -1.121340 -0.821874   \n",
       "38 -1.020395 -0.357563  2.093289  0.792226  1.565661 -0.979214  0.611291   \n",
       "39 -1.057475  2.086639  0.171144  0.314343  0.392864  1.457089 -0.210054   \n",
       "\n",
       "          7         8         9     ...           20        21        22  \\\n",
       "35 -0.363512  0.328858  1.485710    ...     0.174504  0.783425  0.482744   \n",
       "36  0.360003 -0.690849  1.268800    ...     1.042920  1.141695 -0.022510   \n",
       "37  0.788733  0.802940  0.055238    ...    -0.256041 -0.522307  1.239174   \n",
       "38  0.221775 -1.049961 -0.986638    ...    -0.016216 -1.677238  0.617644   \n",
       "39  0.506699 -0.666237 -0.358834    ...    -1.615841  0.265025 -0.262177   \n",
       "\n",
       "          23        24        25        26        27        28        29  \n",
       "35  0.976204  1.850524  1.331668 -1.743861 -0.865994 -1.134474  1.428391  \n",
       "36  2.087278 -1.043130 -1.407722 -0.238734 -0.475240  1.043414  0.202368  \n",
       "37 -2.088828  0.686376 -0.765125 -0.591156  1.218809  2.043956  0.212924  \n",
       "38 -1.150595 -0.367978  2.282345  1.722000  0.068578 -0.286903 -0.448360  \n",
       "39  0.126549 -0.312350 -1.000878  0.607869  0.011989 -1.798684  0.134812  \n",
       "\n",
       "[5 rows x 30 columns]"
      ]
     },
     "execution_count": 8,
     "metadata": {},
     "output_type": "execute_result"
    }
   ],
   "source": [
    "data.tail()"
   ]
  },
  {
   "cell_type": "code",
   "execution_count": 9,
   "metadata": {},
   "outputs": [],
   "source": [
    "edge_weights = [1]*len(edgelist)"
   ]
  },
  {
   "cell_type": "markdown",
   "metadata": {},
   "source": [
    "#### Groups are assigned as the one-hop neighborhood of every node"
   ]
  },
  {
   "cell_type": "code",
   "execution_count": 10,
   "metadata": {},
   "outputs": [
    {
     "data": {
      "text/plain": [
       "30"
      ]
     },
     "execution_count": 10,
     "metadata": {},
     "output_type": "execute_result"
    }
   ],
   "source": [
    "neighborhoods = [[i]+[n for n in g.neighbors(node)] for i, node in enumerate(g.nodes)]\n",
    "num_groups = len(neighborhoods)\n",
    "num_groups"
   ]
  },
  {
   "cell_type": "markdown",
   "metadata": {},
   "source": [
    "## II. Test SPAMS.fistaGraph on \"easy\" graph"
   ]
  },
  {
   "cell_type": "code",
   "execution_count": 11,
   "metadata": {},
   "outputs": [],
   "source": [
    "# Name: spams.fistaGraph\n",
    "#\n",
    "# Description:\n",
    "#     spams.fistaGraph solves sparse regularized problems.\n",
    "#         X is a design matrix of size m x p\n",
    "#         X=[x^1,...,x^n]', where the x_i's are the rows of X\n",
    "#         Y=[y^1,...,y^n] is a matrix of size m x n\n",
    "#         \n",
    "#         It implements the algorithms FISTA, ISTA and subgradient descent for solving\n",
    "#         \n",
    "#           min_W  loss(W) + lambda1 psi(W)\n",
    "#           \n",
    "#         The function psi are those used by spams.proximalGraph (see documentation)\n",
    "#         for the loss functions, see the documentation of spams.fistaFlat\n",
    "#         \n",
    "#         This function can also handle intercepts (last row of W is not regularized),\n",
    "#         and/or non-negativity constraints on W.\n",
    "#"
   ]
  },
  {
   "cell_type": "code",
   "execution_count": 12,
   "metadata": {},
   "outputs": [],
   "source": [
    "#       graph: struct\n",
    "#             with three fields, eta_g, groups, and groups_var\n",
    "#             \n",
    "#             The first fields sets the weights for every group\n",
    "#                graph.eta_g            double N vector \n",
    "\n",
    "eta_g = np.ones(num_groups)\n",
    "       \n",
    "#             The next field sets inclusion relations between groups (but not between groups and variables):\n",
    "#                graph.groups           sparse (double or boolean) N x N matrix  \n",
    "#                the (i,j) entry is non-zero if and only if i is different than j and \n",
    "#                gi is included in gj.\n",
    "\n",
    "groups = scipy.sparse.csc_matrix(np.zeros((num_groups,num_groups)),dtype=np.bool)"
   ]
  },
  {
   "cell_type": "code",
   "execution_count": 13,
   "metadata": {},
   "outputs": [],
   "source": [
    "i, j = zip(*flatten([[(i, j) for j in neighbors] for i, neighbors in enumerate(neighborhoods)]))"
   ]
  },
  {
   "cell_type": "code",
   "execution_count": 14,
   "metadata": {},
   "outputs": [],
   "source": [
    "#             The next field sets inclusion relations between groups and variables\n",
    "#                graph.groups_var       sparse (double or boolean) p x N matrix\n",
    "#                the (i,j) entry is non-zero if and only if the variable i is included \n",
    "#                in gj, but not in any children of gj.\n",
    "\n",
    "#  scipy.sparse.csc_matrix((data, (row_ind, col_ind)), [shape=(M, N)])\n",
    "#      where data, row_ind and col_ind satisfy the relationship a[row_ind[k], col_ind[k]] = data[k].\n",
    "\n",
    "groups_var = scipy.sparse.csc_matrix((np.ones(len(i)),(i,j)),dtype=np.bool)\n",
    "\n",
    "#       graph: struct\n",
    "#             with three fields, eta_g, groups, and groups_var\n",
    "#             \n",
    "graph = {'eta_g':eta_g,'groups':groups,'groups_var':groups_var}"
   ]
  },
  {
   "cell_type": "code",
   "execution_count": 15,
   "metadata": {},
   "outputs": [
    {
     "data": {
      "text/plain": [
       "array([1., 1., 1., 1., 1., 1., 1., 1., 1., 1., 1., 1., 1., 1., 1., 1., 1.,\n",
       "       1., 1., 1., 1., 1., 1., 1., 1., 1., 1., 1., 1., 1.])"
      ]
     },
     "execution_count": 15,
     "metadata": {},
     "output_type": "execute_result"
    }
   ],
   "source": [
    "graph['eta_g']"
   ]
  },
  {
   "cell_type": "code",
   "execution_count": 16,
   "metadata": {},
   "outputs": [
    {
     "data": {
      "text/plain": [
       "<30x30 sparse matrix of type '<class 'numpy.bool_'>'\n",
       "\twith 0 stored elements in Compressed Sparse Column format>"
      ]
     },
     "execution_count": 16,
     "metadata": {},
     "output_type": "execute_result"
    }
   ],
   "source": [
    "graph['groups']"
   ]
  },
  {
   "cell_type": "code",
   "execution_count": 17,
   "metadata": {},
   "outputs": [
    {
     "data": {
      "text/plain": [
       "<30x30 sparse matrix of type '<class 'numpy.bool_'>'\n",
       "\twith 154 stored elements in Compressed Sparse Column format>"
      ]
     },
     "execution_count": 17,
     "metadata": {},
     "output_type": "execute_result"
    }
   ],
   "source": [
    "graph['groups_var']"
   ]
  },
  {
   "cell_type": "code",
   "execution_count": 18,
   "metadata": {},
   "outputs": [],
   "source": [
    "# Usage: spams.fistaGraph(  Y,\n",
    "#                           X,\n",
    "#                           W0,\n",
    "#                           graph,\n",
    "#                           return_optim_info=False,\n",
    "#                           numThreads=-1,\n",
    "#                           max_it=1000,\n",
    "#                           L0=1.0,\n",
    "#                           fixed_step=False,\n",
    "#                           gamma=1.5,\n",
    "#                           lambda1=1.0,\n",
    "#                           lambda2=0.,\n",
    "#                           lambda3=0.,\n",
    "#                           a=1.0,\n",
    "#                           b=0.,\n",
    "#                           tol=0.000001,\n",
    "#                           it0=100,\n",
    "#                           compute_gram=False,\n",
    "#                           intercept=False,\n",
    "#                           regul=\"\",\n",
    "#                           loss=\"\",\n",
    "#                           verbose=False,\n",
    "#                           pos=False,\n",
    "#                           ista=False,\n",
    "#                           subgrad=False,\n",
    "#                           linesearch_mode=0) \n",
    "#\n",
    "# Inputs:\n",
    "#       Y                     : double dense m x n matrix\n",
    "\n",
    "Y = np.asfortranarray(np.expand_dims(y, axis=1)).astype(float)\n",
    "Y = spams.normalize(Y)\n",
    "\n",
    "#       X                     : double dense or sparse m x p matrix\n",
    "\n",
    "X = np.asfortranarray(data.values).astype(float)\n",
    "X = spams.normalize(X)\n",
    "\n",
    "#       W0                    : double dense p x n matrix or p x Nn matrix for multi-logistic loss initial guess\n",
    "\n",
    "W0 = np.zeros((X.shape[1],Y.shape[1]),dtype=np.float64,order=\"F\")\n",
    "\n",
    "#       graph                 : struct see documentation of proximalGraph\n",
    "#       return_optim_info     : if true the function will return a tuple of matrices.\n",
    "#       loss                  : choice of loss, see above\n",
    "#       regul                 : choice of regularization, see below\n",
    "#       lambda1               : regularization parameter\n",
    "#       lambda2               : regularization parameter, 0 by default\n",
    "#       lambda3               : regularization parameter, 0 by default\n",
    "#       verbose               : verbosity level, false by default\n",
    "#       pos                   : adds positivity constraints on the coefficients, false by default\n",
    "#       numThreads            : number of threads for exploiting multi-core / multi-cpus. By default, it takes the value -1, which automatically selects all the available CPUs/cores.\n",
    "#       max_it                : maximum number of iterations, 100 by default\n",
    "#       it0                   : frequency for computing duality gap, every 10 iterations by default\n",
    "#       tol                   : tolerance for stopping criteration, which is a relative duality gap if it is available, or a relative change of parameters.\n",
    "#       gamma                 : multiplier for increasing the parameter L in fista, 1.5 by default\n",
    "#       L0                    : initial parameter L in fista, 0.1 by default, should be small enough\n",
    "#       fixed_step            : deactive the line search for L in fista and use L0 instead\n",
    "#       compute_gram          : pre-compute X^TX, false by default.\n",
    "#       intercept             : do not regularize last row of W, false by default.\n",
    "#       ista                  : use ista instead of fista, false by default.\n",
    "#       subgrad               : if not ista, use subradient descent instead of fista, false by default.\n",
    "#       a                     :\n",
    "#       b                     : if subgrad, the gradient step is a/(t+b) also similar options as proximalTree\n"
   ]
  },
  {
   "cell_type": "code",
   "execution_count": 19,
   "metadata": {},
   "outputs": [],
   "source": [
    "# Regularizers:      \n",
    "#         Given an input matrix U=[u^1,\\ldots,u^n], it computes a matrix  V=[v^1,\\ldots,v^n] such that\n",
    "#\n",
    "#         if one chooses a regularization functions on vectors, it computes for each column u of U, a column v of V solving\n",
    "#         if regul='l0'                      argmin 0.5||u-v||_2^2 + lambda1||v||_0\n",
    "#         if regul='l1'                      argmin 0.5||u-v||_2^2 + lambda1||v||_1\n",
    "#         if regul='l2'                      argmin 0.5||u-v||_2^2 + 0.5lambda1||v||_2^2\n",
    "#         if regul='elastic-net'             argmin 0.5||u-v||_2^2 + lambda1||v||_1 + lambda1_2||v||_2^2\n",
    "#         if regul='fused-lasso'             argmin 0.5||u-v||_2^2 + lambda1 FL(v) + lambda1_2||v||_1 + lambda1_3||v||_2^2\n",
    "#         if regul='linf'                    argmin 0.5||u-v||_2^2 + lambda1||v||_inf\n",
    "#         if regul='l1-constraint'           argmin 0.5||u-v||_2^2 s.t. ||v||_1 <= lambda1\n",
    "#         if regul='l2-not-squared'          argmin 0.5||u-v||_2^2 + lambda1||v||_2\n",
    "#         if regul='group-lasso-l2'          argmin 0.5||u-v||_2^2 + lambda1 sum_g ||v_g||_2 where the groups are either defined by groups or by size_group,\n",
    "#         if regul='group-lasso-linf'        argmin 0.5||u-v||_2^2 + lambda1 sum_g ||v_g||_inf\n",
    "#         if regul='sparse-group-lasso-l2'   argmin 0.5||u-v||_2^2 + lambda1 sum_g ||v_g||_2 + lambda1_2 ||v||_1 where the groups are either defined by groups or by size_group,\n",
    "#         if regul='sparse-group-lasso-linf' argmin 0.5||u-v||_2^2 + lambda1 sum_g ||v_g||_inf + lambda1_2 ||v||_1\n",
    "#         if regul='trace-norm-vec'          argmin 0.5||u-v||_2^2 + lambda1 ||mat(v)||_* where mat(v) has size_group rows\n",
    "#\n",
    "#         if regul='graph'                   argmin 0.5||u-v||_2^2 + lambda1\\sum_{g \\in G} \\eta_g||v_g||_inf\n",
    "#         if regul='graph+ridge'             argmin 0.5||u-v||_2^2 + lambda1\\sum_{g \\in G} \\eta_g||v_g||_inf + lambda1_2||v||_2^2\n",
    "#\n",
    "#         if one chooses a regularization function on matrices\n",
    "#         if regul='l1l2',              V= argmin 0.5||U-V||_F^2 + lambda1||V||_{1/2}\n",
    "#         if regul='l1linf',            V= argmin 0.5||U-V||_F^2 + lambda1||V||_{1/inf}\n",
    "#         if regul='l1l2+l1',           V= argmin 0.5||U-V||_F^2 + lambda1||V||_{1/2} + lambda1_2||V||_{1/1}\n",
    "#         if regul='l1linf+l1',         V= argmin 0.5||U-V||_F^2 + lambda1||V||_{1/inf} + lambda1_2||V||_{1/1}\n",
    "#         if regul='l1linf+row-column', V= argmin 0.5||U-V||_F^2 + lambda1||V||_{1/inf} + lambda1_2||V'||_{1/inf}\n",
    "#         if regul='trace-norm',        V= argmin 0.5||U-V||_F^2 + lambda1||V||_*\n",
    "#         if regul='rank',              V= argmin 0.5||U-V||_F^2 + lambda1 rank(V)\n",
    "#         if regul='none',              V= argmin 0.5||U-V||_F^2\n",
    "#\n",
    "#         if regul='multi-task-graph'   V=argmin 0.5||U-V||_F^2 + lambda1 \\sum_{i=1}^n\\sum_{g \\in G} \\eta_g||v^i_g||_inf + lambda1_2 \\sum_{g \\in G} \\eta_g max_{j in g}||V_j||_{inf}\n",
    "#\n",
    "#         for all these regularizations, it is possible to enforce non-negativity constraints\n",
    "#         with the option pos, and to prevent the last row of U to be regularized, with\n",
    "#         the option intercept\n",
    "\n",
    "# Note:\n",
    "#     Valid values for the regularization parameter (regul) for fistaGraph (beyond those listed above) are:\n",
    "#       \"tree-l0\"\n",
    "#       \"tree-l2\"\n",
    "#       \"tree-linf\"\n",
    "#       \"graph-l2\",\n",
    "#       \"multi-task-tree\"\n",
    "#       \"rank-vec\"\n"
   ]
  },
  {
   "cell_type": "code",
   "execution_count": 20,
   "metadata": {},
   "outputs": [],
   "source": [
    "# Loss:      \n",
    "#           - if loss='square' and regul is a regularization function for vectors,\n",
    "#             the entries of Y are real-valued,  W = [w^1,...,w^n] is a matrix of size p x n\n",
    "#             For all column y of Y, it computes a column w of W such that\n",
    "#               w = argmin 0.5||y- X w||_2^2 + lambda1 psi(w)\n",
    "#               \n",
    "#           - if loss='square' and regul is a regularization function for matrices\n",
    "#             the entries of Y are real-valued,  W is a matrix of size p x n. \n",
    "#             It computes the matrix W such that\n",
    "#               W = argmin 0.5||Y- X W||_F^2 + lambda1 psi(W)\n",
    "#               \n",
    "#           - loss='square-missing' same as loss='square', but handles missing data\n",
    "#             represented by NaN (not a number) in the matrix Y\n",
    "#             \n",
    "#           - if loss='logistic' and regul is a regularization function for vectors,\n",
    "#             the entries of Y are either -1 or +1, W = [w^1,...,w^n] is a matrix of size p x n\n",
    "#             For all column y of Y, it computes a column w of W such that\n",
    "#               w = argmin (1/m)sum_{j=1}^m log(1+e^(-y_j x^j' w)) + lambda1 psi(w),\n",
    "#             where x^j is the j-th row of X.\n",
    "#             \n",
    "#           - if loss='logistic' and regul is a regularization function for matrices\n",
    "#             the entries of Y are either -1 or +1, W is a matrix of size p x n\n",
    "#               W = argmin sum_{i=1}^n(1/m)sum_{j=1}^m log(1+e^(-y^i_j x^j' w^i)) + lambda1 psi(W)\n",
    "#               \n",
    "#           - if loss='multi-logistic' and regul is a regularization function for vectors,\n",
    "#             the entries of Y are in {0,1,...,N} where N is the total number of classes\n",
    "#             W = [W^1,...,W^n] is a matrix of size p x Nn, each submatrix W^i is of size p x N\n",
    "#             for all submatrix WW of W, and column y of Y, it computes\n",
    "#               WW = argmin (1/m)sum_{j=1}^m log(sum_{j=1}^r e^(x^j'(ww^j-ww^{y_j}))) + lambda1 sum_{j=1}^N psi(ww^j),\n",
    "#             where ww^j is the j-th column of WW.\n",
    "#             \n",
    "#           - if loss='multi-logistic' and regul is a regularization function for matrices,\n",
    "#             the entries of Y are in {0,1,...,N} where N is the total number of classes\n",
    "#             W is a matrix of size p x N, it computes\n",
    "#               W = argmin (1/m)sum_{j=1}^m log(sum_{j=1}^r e^(x^j'(w^j-w^{y_j}))) + lambda1 psi(W)\n",
    "#             where ww^j is the j-th column of WW.\n",
    "#             \n",
    "#           - loss='cur' useful to perform sparse CUR matrix decompositions, \n",
    "#               W = argmin 0.5||Y-X*W*X||_F^2 + lambda1 psi(W)"
   ]
  },
  {
   "cell_type": "code",
   "execution_count": 21,
   "metadata": {},
   "outputs": [
    {
     "name": "stdout",
     "output_type": "stream",
     "text": [
      "mean loss: 0.017474, mean relative duality_gap: -1.000000, time: 0.003091, number of iterations: 837.000000\n"
     ]
    }
   ],
   "source": [
    "verbose      = True\n",
    "lambda1      = 0       # regularization term (no regularization)\n",
    "max_it       = 100     # maximum number of iterations\n",
    "L0           = 0.1\n",
    "tol          = 1e-5\n",
    "intercept    = False\n",
    "pos          = False\n",
    "compute_gram = True\n",
    "\n",
    "loss         = 'square'\n",
    "regul        = 'none'\n",
    "tic          = time.time()\n",
    "\n",
    "(W, optim_info) = spams.fistaGraph(Y, X, W0, graph, return_optim_info=True, loss=loss, regul=regul, verbose=verbose)\n",
    "\n",
    "tac = time.time()\n",
    "t = tac - tic\n",
    "\n",
    "print('mean loss: %f, mean relative duality_gap: %f, time: %f, number of iterations: %f' %(np.mean(optim_info[0,:]),np.mean(optim_info[2,:]),t,np.mean(optim_info[3,:])))"
   ]
  },
  {
   "cell_type": "code",
   "execution_count": 22,
   "metadata": {},
   "outputs": [
    {
     "name": "stdout",
     "output_type": "stream",
     "text": [
      "mean loss: 0.500000, mean relative duality_gap: 0.000000, time: 0.003418, number of iterations: 100.000000\n"
     ]
    }
   ],
   "source": [
    "verbose      = True\n",
    "lambda1      = 0       # regularization term (no regularization)\n",
    "max_it       = 100     # maximum number of iterations\n",
    "L0           = 0.1\n",
    "tol          = 1e-5\n",
    "intercept    = False\n",
    "pos          = False\n",
    "compute_gram = True\n",
    "\n",
    "loss         = 'square'\n",
    "regul        = 'graph'\n",
    "tic          = time.time()\n",
    "\n",
    "(W, optim_info) = spams.fistaGraph(Y, X, W0, graph, return_optim_info=True, loss=loss, regul=regul, verbose=verbose)\n",
    "\n",
    "tac = time.time()\n",
    "t = tac - tic\n",
    "\n",
    "print('mean loss: %f, mean relative duality_gap: %f, time: %f, number of iterations: %f' %(np.mean(optim_info[0,:]),np.mean(optim_info[2,:]),t,np.mean(optim_info[3,:])))"
   ]
  },
  {
   "cell_type": "code",
   "execution_count": 23,
   "metadata": {},
   "outputs": [],
   "source": [
    "# Output:\n",
    "#       W:  double dense p x n matrix or p x Nn matrix (for multi-logistic loss)\n",
    "#       optim: optional, double dense 4 x n matrix.\n",
    "#           first row: values of the objective functions.\n",
    "#           third row: values of the relative duality gap (if available)\n",
    "#           fourth row: number of iterations\n",
    "#       optim_info:        vector of size 4, containing information of the optimization.\n",
    "#             W = spams.fistaGraph(Y,X,W0,graph,return_optim_info = False,...)\n",
    "#             (W,optim_info) = spams.fistaGraph(Y,X,W0,graph,return_optim_info = True,...)\n",
    "#"
   ]
  },
  {
   "cell_type": "code",
   "execution_count": 24,
   "metadata": {},
   "outputs": [
    {
     "data": {
      "text/plain": [
       "[0, 3, 5, 6, 9, 13, 14]"
      ]
     },
     "execution_count": 24,
     "metadata": {},
     "output_type": "execute_result"
    }
   ],
   "source": [
    "signal_nodes"
   ]
  },
  {
   "cell_type": "code",
   "execution_count": 27,
   "metadata": {},
   "outputs": [
    {
     "data": {
      "text/html": [
       "<div>\n",
       "<style scoped>\n",
       "    .dataframe tbody tr th:only-of-type {\n",
       "        vertical-align: middle;\n",
       "    }\n",
       "\n",
       "    .dataframe tbody tr th {\n",
       "        vertical-align: top;\n",
       "    }\n",
       "\n",
       "    .dataframe thead th {\n",
       "        text-align: right;\n",
       "    }\n",
       "</style>\n",
       "<table border=\"1\" class=\"dataframe\">\n",
       "  <thead>\n",
       "    <tr style=\"text-align: right;\">\n",
       "      <th></th>\n",
       "      <th>0</th>\n",
       "      <th>1</th>\n",
       "      <th>2</th>\n",
       "      <th>3</th>\n",
       "      <th>4</th>\n",
       "      <th>5</th>\n",
       "      <th>6</th>\n",
       "      <th>7</th>\n",
       "      <th>8</th>\n",
       "      <th>9</th>\n",
       "      <th>...</th>\n",
       "      <th>20</th>\n",
       "      <th>21</th>\n",
       "      <th>22</th>\n",
       "      <th>23</th>\n",
       "      <th>24</th>\n",
       "      <th>25</th>\n",
       "      <th>26</th>\n",
       "      <th>27</th>\n",
       "      <th>28</th>\n",
       "      <th>29</th>\n",
       "    </tr>\n",
       "  </thead>\n",
       "  <tbody>\n",
       "    <tr>\n",
       "      <th>0</th>\n",
       "      <td>0.0</td>\n",
       "      <td>0.0</td>\n",
       "      <td>0.0</td>\n",
       "      <td>0.0</td>\n",
       "      <td>0.0</td>\n",
       "      <td>0.0</td>\n",
       "      <td>0.0</td>\n",
       "      <td>0.0</td>\n",
       "      <td>-0.0</td>\n",
       "      <td>0.0</td>\n",
       "      <td>...</td>\n",
       "      <td>0.0</td>\n",
       "      <td>-0.0</td>\n",
       "      <td>0.0</td>\n",
       "      <td>0.0</td>\n",
       "      <td>-0.0</td>\n",
       "      <td>-0.0</td>\n",
       "      <td>0.0</td>\n",
       "      <td>0.0</td>\n",
       "      <td>-0.0</td>\n",
       "      <td>-0.0</td>\n",
       "    </tr>\n",
       "  </tbody>\n",
       "</table>\n",
       "<p>1 rows × 30 columns</p>\n",
       "</div>"
      ],
      "text/plain": [
       "    0    1    2    3    4    5    6    7    8    9  ...    20   21   22   23  \\\n",
       "0  0.0  0.0  0.0  0.0  0.0  0.0  0.0  0.0 -0.0  0.0 ...   0.0 -0.0  0.0  0.0   \n",
       "\n",
       "    24   25   26   27   28   29  \n",
       "0 -0.0 -0.0  0.0  0.0 -0.0 -0.0  \n",
       "\n",
       "[1 rows x 30 columns]"
      ]
     },
     "execution_count": 27,
     "metadata": {},
     "output_type": "execute_result"
    }
   ],
   "source": [
    "W = pd.DataFrame(W)\n",
    "W.T"
   ]
  },
  {
   "cell_type": "code",
   "execution_count": 26,
   "metadata": {},
   "outputs": [
    {
     "data": {
      "text/plain": [
       "0    False\n",
       "dtype: bool"
      ]
     },
     "execution_count": 26,
     "metadata": {},
     "output_type": "execute_result"
    }
   ],
   "source": [
    "W[W != 0].any()"
   ]
  },
  {
   "cell_type": "code",
   "execution_count": null,
   "metadata": {},
   "outputs": [],
   "source": []
  }
 ],
 "metadata": {
  "kernelspec": {
   "display_name": "Python 3",
   "language": "python",
   "name": "python3"
  },
  "language_info": {
   "codemirror_mode": {
    "name": "ipython",
    "version": 3
   },
   "file_extension": ".py",
   "mimetype": "text/x-python",
   "name": "python",
   "nbconvert_exporter": "python",
   "pygments_lexer": "ipython3",
   "version": "3.7.1"
  }
 },
 "nbformat": 4,
 "nbformat_minor": 2
}
