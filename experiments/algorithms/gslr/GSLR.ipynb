{
 "cells": [
  {
   "cell_type": "markdown",
   "metadata": {},
   "source": [
    "# *Graph-Sparse* Logistic Regression for sparse recovery of the dysregulated pathways in our synthetic datasets"
   ]
  },
  {
   "cell_type": "code",
   "execution_count": 1,
   "metadata": {},
   "outputs": [
    {
     "name": "stdout",
     "output_type": "stream",
     "text": [
      "Populating the interactive namespace from numpy and matplotlib\n"
     ]
    }
   ],
   "source": [
    "%pylab inline\n",
    "# %load_ext line_profiler\n",
    "\n",
    "import sys\n",
    "import pickle\n",
    "from timeit import default_timer as timer\n",
    "import pandas as pd\n",
    "import networkx as nx\n",
    "\n",
    "from sklearn.preprocessing import LabelEncoder\n",
    "\n",
    "from matplotlib_venn import venn3, venn3_circles, venn2\n",
    "\n",
    "repo_path = '/Users/alex/Documents/gslr/'\n",
    "data_path = repo_path + 'experiments/generated_data/3/'\n",
    "KEGG_path = repo_path + 'experiments/KEGG/KEGG_df.filtered.with_correlates.pickle'\n",
    "interactome_path = repo_path + 'experiments/algorithms/pcsf/inbiomap_temp.tsv'\n",
    "\n",
    "pathway_id = 'hsa04110'\n",
    "\n",
    "# repo_path = '/Users/ludwig/research/model_cs/cluster_model/bio/repo2/'\n",
    "# data_path = '/Users/ludwig/research/model_cs/cluster_model/bio/data/'\n",
    "\n",
    "sys.path.append(repo_path + 'gslr/')\n",
    "import gslr"
   ]
  },
  {
   "cell_type": "markdown",
   "metadata": {},
   "source": [
    "### I. Load Synthetic Dataset which is known to be at least somewhat connected in the interactome. "
   ]
  },
  {
   "cell_type": "code",
   "execution_count": 2,
   "metadata": {
    "scrolled": true
   },
   "outputs": [
    {
     "data": {
      "text/html": [
       "<div>\n",
       "<style>\n",
       "    .dataframe thead tr:only-child th {\n",
       "        text-align: right;\n",
       "    }\n",
       "\n",
       "    .dataframe thead th {\n",
       "        text-align: left;\n",
       "    }\n",
       "\n",
       "    .dataframe tbody tr th {\n",
       "        vertical-align: top;\n",
       "    }\n",
       "</style>\n",
       "<table border=\"1\" class=\"dataframe\">\n",
       "  <thead>\n",
       "    <tr style=\"text-align: right;\">\n",
       "      <th></th>\n",
       "      <th>ZNF91</th>\n",
       "      <th>NDEL1</th>\n",
       "      <th>ELAVL1</th>\n",
       "      <th>SUMO1</th>\n",
       "      <th>SUMO3</th>\n",
       "      <th>CHMP5</th>\n",
       "      <th>UBC</th>\n",
       "      <th>HTT</th>\n",
       "      <th>E2F4</th>\n",
       "      <th>ACP5</th>\n",
       "      <th>...</th>\n",
       "      <th>SPANXN4</th>\n",
       "      <th>ZNF605</th>\n",
       "      <th>SERPINB10</th>\n",
       "      <th>ANKAR</th>\n",
       "      <th>RRH</th>\n",
       "      <th>DHH</th>\n",
       "      <th>CYSLTR1</th>\n",
       "      <th>ZNF268</th>\n",
       "      <th>COL23A1</th>\n",
       "      <th>MEDAG</th>\n",
       "    </tr>\n",
       "  </thead>\n",
       "  <tbody>\n",
       "    <tr>\n",
       "      <th>hsa04110</th>\n",
       "      <td>0.0</td>\n",
       "      <td>0.115272</td>\n",
       "      <td>-0.365345</td>\n",
       "      <td>-0.014955</td>\n",
       "      <td>-0.374350</td>\n",
       "      <td>0.109953</td>\n",
       "      <td>-0.0</td>\n",
       "      <td>-0.313725</td>\n",
       "      <td>0.034973</td>\n",
       "      <td>-0.309654</td>\n",
       "      <td>...</td>\n",
       "      <td>0.0</td>\n",
       "      <td>0.0</td>\n",
       "      <td>0.0</td>\n",
       "      <td>0.0</td>\n",
       "      <td>0.0</td>\n",
       "      <td>0.0</td>\n",
       "      <td>0.0</td>\n",
       "      <td>0.0</td>\n",
       "      <td>0.0</td>\n",
       "      <td>0.0</td>\n",
       "    </tr>\n",
       "    <tr>\n",
       "      <th>hsa04110</th>\n",
       "      <td>-0.0</td>\n",
       "      <td>-0.138520</td>\n",
       "      <td>-0.340004</td>\n",
       "      <td>0.430427</td>\n",
       "      <td>0.618810</td>\n",
       "      <td>-0.400398</td>\n",
       "      <td>-0.0</td>\n",
       "      <td>0.281479</td>\n",
       "      <td>-0.903482</td>\n",
       "      <td>0.312078</td>\n",
       "      <td>...</td>\n",
       "      <td>0.0</td>\n",
       "      <td>0.0</td>\n",
       "      <td>0.0</td>\n",
       "      <td>0.0</td>\n",
       "      <td>0.0</td>\n",
       "      <td>0.0</td>\n",
       "      <td>0.0</td>\n",
       "      <td>0.0</td>\n",
       "      <td>0.0</td>\n",
       "      <td>0.0</td>\n",
       "    </tr>\n",
       "    <tr>\n",
       "      <th>negative</th>\n",
       "      <td>-0.0</td>\n",
       "      <td>-0.492418</td>\n",
       "      <td>0.612346</td>\n",
       "      <td>0.544840</td>\n",
       "      <td>-0.253648</td>\n",
       "      <td>-0.004268</td>\n",
       "      <td>-0.0</td>\n",
       "      <td>-0.109864</td>\n",
       "      <td>0.337787</td>\n",
       "      <td>-0.604446</td>\n",
       "      <td>...</td>\n",
       "      <td>0.0</td>\n",
       "      <td>0.0</td>\n",
       "      <td>0.0</td>\n",
       "      <td>0.0</td>\n",
       "      <td>0.0</td>\n",
       "      <td>0.0</td>\n",
       "      <td>0.0</td>\n",
       "      <td>0.0</td>\n",
       "      <td>0.0</td>\n",
       "      <td>0.0</td>\n",
       "    </tr>\n",
       "    <tr>\n",
       "      <th>hsa04110</th>\n",
       "      <td>-0.0</td>\n",
       "      <td>-0.592521</td>\n",
       "      <td>0.050179</td>\n",
       "      <td>0.383061</td>\n",
       "      <td>0.261450</td>\n",
       "      <td>-0.131206</td>\n",
       "      <td>0.0</td>\n",
       "      <td>-0.265055</td>\n",
       "      <td>0.179607</td>\n",
       "      <td>-0.416877</td>\n",
       "      <td>...</td>\n",
       "      <td>0.0</td>\n",
       "      <td>0.0</td>\n",
       "      <td>0.0</td>\n",
       "      <td>0.0</td>\n",
       "      <td>0.0</td>\n",
       "      <td>0.0</td>\n",
       "      <td>0.0</td>\n",
       "      <td>0.0</td>\n",
       "      <td>0.0</td>\n",
       "      <td>0.0</td>\n",
       "    </tr>\n",
       "    <tr>\n",
       "      <th>hsa04110</th>\n",
       "      <td>0.0</td>\n",
       "      <td>0.000973</td>\n",
       "      <td>0.040952</td>\n",
       "      <td>-0.728286</td>\n",
       "      <td>-0.604990</td>\n",
       "      <td>-0.119933</td>\n",
       "      <td>-0.0</td>\n",
       "      <td>-0.047649</td>\n",
       "      <td>0.165359</td>\n",
       "      <td>-0.616325</td>\n",
       "      <td>...</td>\n",
       "      <td>0.0</td>\n",
       "      <td>0.0</td>\n",
       "      <td>0.0</td>\n",
       "      <td>0.0</td>\n",
       "      <td>0.0</td>\n",
       "      <td>0.0</td>\n",
       "      <td>0.0</td>\n",
       "      <td>0.0</td>\n",
       "      <td>0.0</td>\n",
       "      <td>0.0</td>\n",
       "    </tr>\n",
       "  </tbody>\n",
       "</table>\n",
       "<p>5 rows × 16349 columns</p>\n",
       "</div>"
      ],
      "text/plain": [
       "          ZNF91     NDEL1    ELAVL1     SUMO1     SUMO3     CHMP5  UBC  \\\n",
       "hsa04110    0.0  0.115272 -0.365345 -0.014955 -0.374350  0.109953 -0.0   \n",
       "hsa04110   -0.0 -0.138520 -0.340004  0.430427  0.618810 -0.400398 -0.0   \n",
       "negative   -0.0 -0.492418  0.612346  0.544840 -0.253648 -0.004268 -0.0   \n",
       "hsa04110   -0.0 -0.592521  0.050179  0.383061  0.261450 -0.131206  0.0   \n",
       "hsa04110    0.0  0.000973  0.040952 -0.728286 -0.604990 -0.119933 -0.0   \n",
       "\n",
       "               HTT      E2F4      ACP5  ...    SPANXN4  ZNF605  SERPINB10  \\\n",
       "hsa04110 -0.313725  0.034973 -0.309654  ...        0.0     0.0        0.0   \n",
       "hsa04110  0.281479 -0.903482  0.312078  ...        0.0     0.0        0.0   \n",
       "negative -0.109864  0.337787 -0.604446  ...        0.0     0.0        0.0   \n",
       "hsa04110 -0.265055  0.179607 -0.416877  ...        0.0     0.0        0.0   \n",
       "hsa04110 -0.047649  0.165359 -0.616325  ...        0.0     0.0        0.0   \n",
       "\n",
       "          ANKAR  RRH  DHH  CYSLTR1  ZNF268  COL23A1  MEDAG  \n",
       "hsa04110    0.0  0.0  0.0      0.0     0.0      0.0    0.0  \n",
       "hsa04110    0.0  0.0  0.0      0.0     0.0      0.0    0.0  \n",
       "negative    0.0  0.0  0.0      0.0     0.0      0.0    0.0  \n",
       "hsa04110    0.0  0.0  0.0      0.0     0.0      0.0    0.0  \n",
       "hsa04110    0.0  0.0  0.0      0.0     0.0      0.0    0.0  \n",
       "\n",
       "[5 rows x 16349 columns]"
      ]
     },
     "execution_count": 2,
     "metadata": {},
     "output_type": "execute_result"
    }
   ],
   "source": [
    "dataset = pd.read_csv(data_path + pathway_id + '_inbiomap_exp.csv', index_col=0)\n",
    "dataset.head()"
   ]
  },
  {
   "cell_type": "markdown",
   "metadata": {},
   "source": [
    "### II. Extract Labels"
   ]
  },
  {
   "cell_type": "code",
   "execution_count": 3,
   "metadata": {},
   "outputs": [
    {
     "data": {
      "text/plain": [
       "array([0, 0, 1, 0, 0, 1, 0, 0, 1, 0, 1, 0, 0, 1, 1, 0, 0, 1, 1, 1, 0, 0, 1,\n",
       "       0, 0, 0, 0, 1, 0, 1, 0, 0, 0, 0, 1, 0, 0, 0, 0, 0, 1, 1, 0, 1, 1, 1,\n",
       "       0, 0, 0, 0, 0, 1, 0, 1, 0, 1, 1, 0, 1, 0, 0, 0, 1, 0, 1, 1, 1, 1, 1,\n",
       "       1, 1, 1, 1, 1, 1, 1, 1, 1, 1, 1, 1, 0, 0, 1, 1, 1, 0, 1, 0, 1, 1, 1,\n",
       "       1, 1, 1, 0, 1, 1, 1, 1, 1, 0, 0, 0, 0, 1, 0, 0, 0, 1, 0, 1, 1, 1, 0,\n",
       "       1, 0, 0, 1, 0, 0, 0, 1, 0, 0, 1, 1, 1, 0, 1, 0, 1, 1, 0, 0, 1, 0, 1,\n",
       "       0, 0, 0, 1, 0, 1, 1, 1, 0, 0, 1, 1, 0, 0, 0, 1, 0, 0, 0, 0, 0, 1, 1,\n",
       "       1, 0, 0, 0, 0, 0, 0, 1, 1, 0, 1, 0, 0, 1, 1, 1, 0, 0, 1, 1, 1, 1, 0,\n",
       "       1, 1, 0, 1, 1, 0, 0, 0, 0, 0, 1, 1, 1, 0, 1, 0])"
      ]
     },
     "execution_count": 3,
     "metadata": {},
     "output_type": "execute_result"
    }
   ],
   "source": [
    "labeler = LabelEncoder()\n",
    "labeler.fit(dataset.index.tolist())\n",
    "labels = labeler.transform(dataset.index.tolist())\n",
    "y = labels\n",
    "y"
   ]
  },
  {
   "cell_type": "markdown",
   "metadata": {},
   "source": [
    "### III. Load Interactome"
   ]
  },
  {
   "cell_type": "code",
   "execution_count": 4,
   "metadata": {
    "scrolled": false
   },
   "outputs": [
    {
     "data": {
      "text/html": [
       "<div>\n",
       "<style>\n",
       "    .dataframe thead tr:only-child th {\n",
       "        text-align: right;\n",
       "    }\n",
       "\n",
       "    .dataframe thead th {\n",
       "        text-align: left;\n",
       "    }\n",
       "\n",
       "    .dataframe tbody tr th {\n",
       "        vertical-align: top;\n",
       "    }\n",
       "</style>\n",
       "<table border=\"1\" class=\"dataframe\">\n",
       "  <thead>\n",
       "    <tr style=\"text-align: right;\">\n",
       "      <th></th>\n",
       "      <th>protein1</th>\n",
       "      <th>protein2</th>\n",
       "      <th>cost</th>\n",
       "    </tr>\n",
       "  </thead>\n",
       "  <tbody>\n",
       "    <tr>\n",
       "      <th>0</th>\n",
       "      <td>ZNF91</td>\n",
       "      <td>NDEL1</td>\n",
       "      <td>1.253</td>\n",
       "    </tr>\n",
       "    <tr>\n",
       "      <th>1</th>\n",
       "      <td>ZNF91</td>\n",
       "      <td>ELAVL1</td>\n",
       "      <td>1.254</td>\n",
       "    </tr>\n",
       "    <tr>\n",
       "      <th>2</th>\n",
       "      <td>ZNF91</td>\n",
       "      <td>SUMO1</td>\n",
       "      <td>1.245</td>\n",
       "    </tr>\n",
       "    <tr>\n",
       "      <th>3</th>\n",
       "      <td>ZNF91</td>\n",
       "      <td>SUMO3</td>\n",
       "      <td>1.245</td>\n",
       "    </tr>\n",
       "    <tr>\n",
       "      <th>4</th>\n",
       "      <td>ZNF91</td>\n",
       "      <td>CHMP5</td>\n",
       "      <td>1.241</td>\n",
       "    </tr>\n",
       "  </tbody>\n",
       "</table>\n",
       "</div>"
      ],
      "text/plain": [
       "  protein1 protein2   cost\n",
       "0    ZNF91    NDEL1  1.253\n",
       "1    ZNF91   ELAVL1  1.254\n",
       "2    ZNF91    SUMO1  1.245\n",
       "3    ZNF91    SUMO3  1.245\n",
       "4    ZNF91    CHMP5  1.241"
      ]
     },
     "execution_count": 4,
     "metadata": {},
     "output_type": "execute_result"
    }
   ],
   "source": [
    "inbiomap_experimentally = pd.read_csv(interactome_path, sep='\\t', names=['protein1','protein2','cost'])\n",
    "inbiomap_experimentally.head()"
   ]
  },
  {
   "cell_type": "code",
   "execution_count": 5,
   "metadata": {},
   "outputs": [
    {
     "data": {
      "text/plain": [
       "array([[    0,  1228],\n",
       "       [    0,  1279],\n",
       "       [    0,  4071],\n",
       "       ..., \n",
       "       [14190, 14237],\n",
       "       [14191, 14378],\n",
       "       [14192, 14539]])"
      ]
     },
     "execution_count": 5,
     "metadata": {},
     "output_type": "execute_result"
    }
   ],
   "source": [
    "(edges, nodes) = pd.factorize(inbiomap_experimentally[[\"protein1\",\"protein2\"]].unstack())\n",
    "edges = edges.reshape(inbiomap_experimentally[[\"protein1\",\"protein2\"]].shape, order='F')\n",
    "edges"
   ]
  },
  {
   "cell_type": "code",
   "execution_count": 6,
   "metadata": {},
   "outputs": [
    {
     "data": {
      "text/plain": [
       "Index(['ZNF91', 'NDEL1', 'ELAVL1', 'SUMO1', 'SUMO3', 'CHMP5', 'UBC', 'HTT',\n",
       "       'E2F4', 'ACP5',\n",
       "       ...\n",
       "       'SPANXN4', 'ZNF605', 'SERPINB10', 'ANKAR', 'RRH', 'DHH', 'CYSLTR1',\n",
       "       'ZNF268', 'COL23A1', 'MEDAG'],\n",
       "      dtype='object', length=16349)"
      ]
     },
     "execution_count": 6,
     "metadata": {},
     "output_type": "execute_result"
    }
   ],
   "source": [
    "dataset.columns"
   ]
  },
  {
   "cell_type": "code",
   "execution_count": 7,
   "metadata": {},
   "outputs": [
    {
     "data": {
      "text/plain": [
       "Index(['ZNF91', 'ACP5', 'SLC27A2', 'PAX9', 'ADAM15', 'ELOVL2', 'DDX60L',\n",
       "       'FGF7', 'CDHR5', 'LYPD3',\n",
       "       ...\n",
       "       'CNR2', 'GIG44', 'LINC00588', 'TAAR2', 'CHRNE', 'ANKAR', 'DHH',\n",
       "       'CYSLTR1', 'COL23A1', 'MEDAG'],\n",
       "      dtype='object', length=16349)"
      ]
     },
     "execution_count": 7,
     "metadata": {},
     "output_type": "execute_result"
    }
   ],
   "source": [
    "nodes"
   ]
  },
  {
   "cell_type": "markdown",
   "metadata": {},
   "source": [
    "### IV. Prepare Dataset"
   ]
  },
  {
   "cell_type": "code",
   "execution_count": 8,
   "metadata": {},
   "outputs": [
    {
     "data": {
      "text/html": [
       "<div>\n",
       "<style>\n",
       "    .dataframe thead tr:only-child th {\n",
       "        text-align: right;\n",
       "    }\n",
       "\n",
       "    .dataframe thead th {\n",
       "        text-align: left;\n",
       "    }\n",
       "\n",
       "    .dataframe tbody tr th {\n",
       "        vertical-align: top;\n",
       "    }\n",
       "</style>\n",
       "<table border=\"1\" class=\"dataframe\">\n",
       "  <thead>\n",
       "    <tr style=\"text-align: right;\">\n",
       "      <th></th>\n",
       "      <th>ZNF91</th>\n",
       "      <th>ACP5</th>\n",
       "      <th>SLC27A2</th>\n",
       "      <th>PAX9</th>\n",
       "      <th>ADAM15</th>\n",
       "      <th>ELOVL2</th>\n",
       "      <th>DDX60L</th>\n",
       "      <th>FGF7</th>\n",
       "      <th>CDHR5</th>\n",
       "      <th>LYPD3</th>\n",
       "      <th>...</th>\n",
       "      <th>CNR2</th>\n",
       "      <th>GIG44</th>\n",
       "      <th>LINC00588</th>\n",
       "      <th>TAAR2</th>\n",
       "      <th>CHRNE</th>\n",
       "      <th>ANKAR</th>\n",
       "      <th>DHH</th>\n",
       "      <th>CYSLTR1</th>\n",
       "      <th>COL23A1</th>\n",
       "      <th>MEDAG</th>\n",
       "    </tr>\n",
       "  </thead>\n",
       "  <tbody>\n",
       "    <tr>\n",
       "      <th>hsa04110</th>\n",
       "      <td>0.0</td>\n",
       "      <td>-0.309654</td>\n",
       "      <td>-0.465889</td>\n",
       "      <td>-0.0</td>\n",
       "      <td>0.248297</td>\n",
       "      <td>-0.0</td>\n",
       "      <td>-0.733481</td>\n",
       "      <td>0.0</td>\n",
       "      <td>-0.0</td>\n",
       "      <td>0.301864</td>\n",
       "      <td>...</td>\n",
       "      <td>0.0</td>\n",
       "      <td>0.0</td>\n",
       "      <td>0.0</td>\n",
       "      <td>0.0</td>\n",
       "      <td>0.0</td>\n",
       "      <td>0.0</td>\n",
       "      <td>0.0</td>\n",
       "      <td>0.0</td>\n",
       "      <td>0.0</td>\n",
       "      <td>0.0</td>\n",
       "    </tr>\n",
       "    <tr>\n",
       "      <th>hsa04110</th>\n",
       "      <td>-0.0</td>\n",
       "      <td>0.312078</td>\n",
       "      <td>-0.133484</td>\n",
       "      <td>0.0</td>\n",
       "      <td>-0.098908</td>\n",
       "      <td>0.0</td>\n",
       "      <td>-0.072859</td>\n",
       "      <td>0.0</td>\n",
       "      <td>-0.0</td>\n",
       "      <td>-0.137809</td>\n",
       "      <td>...</td>\n",
       "      <td>0.0</td>\n",
       "      <td>0.0</td>\n",
       "      <td>0.0</td>\n",
       "      <td>0.0</td>\n",
       "      <td>0.0</td>\n",
       "      <td>0.0</td>\n",
       "      <td>0.0</td>\n",
       "      <td>0.0</td>\n",
       "      <td>0.0</td>\n",
       "      <td>0.0</td>\n",
       "    </tr>\n",
       "    <tr>\n",
       "      <th>negative</th>\n",
       "      <td>-0.0</td>\n",
       "      <td>-0.604446</td>\n",
       "      <td>0.158134</td>\n",
       "      <td>-0.0</td>\n",
       "      <td>0.367447</td>\n",
       "      <td>-0.0</td>\n",
       "      <td>-0.497150</td>\n",
       "      <td>-0.0</td>\n",
       "      <td>0.0</td>\n",
       "      <td>-0.753135</td>\n",
       "      <td>...</td>\n",
       "      <td>0.0</td>\n",
       "      <td>0.0</td>\n",
       "      <td>0.0</td>\n",
       "      <td>0.0</td>\n",
       "      <td>0.0</td>\n",
       "      <td>0.0</td>\n",
       "      <td>0.0</td>\n",
       "      <td>0.0</td>\n",
       "      <td>0.0</td>\n",
       "      <td>0.0</td>\n",
       "    </tr>\n",
       "    <tr>\n",
       "      <th>hsa04110</th>\n",
       "      <td>-0.0</td>\n",
       "      <td>-0.416877</td>\n",
       "      <td>-0.277561</td>\n",
       "      <td>-0.0</td>\n",
       "      <td>1.229557</td>\n",
       "      <td>-0.0</td>\n",
       "      <td>0.450307</td>\n",
       "      <td>0.0</td>\n",
       "      <td>0.0</td>\n",
       "      <td>-0.393031</td>\n",
       "      <td>...</td>\n",
       "      <td>0.0</td>\n",
       "      <td>0.0</td>\n",
       "      <td>0.0</td>\n",
       "      <td>0.0</td>\n",
       "      <td>0.0</td>\n",
       "      <td>0.0</td>\n",
       "      <td>0.0</td>\n",
       "      <td>0.0</td>\n",
       "      <td>0.0</td>\n",
       "      <td>0.0</td>\n",
       "    </tr>\n",
       "    <tr>\n",
       "      <th>hsa04110</th>\n",
       "      <td>0.0</td>\n",
       "      <td>-0.616325</td>\n",
       "      <td>-0.081220</td>\n",
       "      <td>0.0</td>\n",
       "      <td>0.366697</td>\n",
       "      <td>-0.0</td>\n",
       "      <td>0.932978</td>\n",
       "      <td>0.0</td>\n",
       "      <td>-0.0</td>\n",
       "      <td>0.016254</td>\n",
       "      <td>...</td>\n",
       "      <td>0.0</td>\n",
       "      <td>0.0</td>\n",
       "      <td>0.0</td>\n",
       "      <td>0.0</td>\n",
       "      <td>0.0</td>\n",
       "      <td>0.0</td>\n",
       "      <td>0.0</td>\n",
       "      <td>0.0</td>\n",
       "      <td>0.0</td>\n",
       "      <td>0.0</td>\n",
       "    </tr>\n",
       "  </tbody>\n",
       "</table>\n",
       "<p>5 rows × 16349 columns</p>\n",
       "</div>"
      ],
      "text/plain": [
       "          ZNF91      ACP5   SLC27A2  PAX9    ADAM15  ELOVL2    DDX60L  FGF7  \\\n",
       "hsa04110    0.0 -0.309654 -0.465889  -0.0  0.248297    -0.0 -0.733481   0.0   \n",
       "hsa04110   -0.0  0.312078 -0.133484   0.0 -0.098908     0.0 -0.072859   0.0   \n",
       "negative   -0.0 -0.604446  0.158134  -0.0  0.367447    -0.0 -0.497150  -0.0   \n",
       "hsa04110   -0.0 -0.416877 -0.277561  -0.0  1.229557    -0.0  0.450307   0.0   \n",
       "hsa04110    0.0 -0.616325 -0.081220   0.0  0.366697    -0.0  0.932978   0.0   \n",
       "\n",
       "          CDHR5     LYPD3  ...    CNR2  GIG44  LINC00588  TAAR2  CHRNE  ANKAR  \\\n",
       "hsa04110   -0.0  0.301864  ...     0.0    0.0        0.0    0.0    0.0    0.0   \n",
       "hsa04110   -0.0 -0.137809  ...     0.0    0.0        0.0    0.0    0.0    0.0   \n",
       "negative    0.0 -0.753135  ...     0.0    0.0        0.0    0.0    0.0    0.0   \n",
       "hsa04110    0.0 -0.393031  ...     0.0    0.0        0.0    0.0    0.0    0.0   \n",
       "hsa04110   -0.0  0.016254  ...     0.0    0.0        0.0    0.0    0.0    0.0   \n",
       "\n",
       "          DHH  CYSLTR1  COL23A1  MEDAG  \n",
       "hsa04110  0.0      0.0      0.0    0.0  \n",
       "hsa04110  0.0      0.0      0.0    0.0  \n",
       "negative  0.0      0.0      0.0    0.0  \n",
       "hsa04110  0.0      0.0      0.0    0.0  \n",
       "hsa04110  0.0      0.0      0.0    0.0  \n",
       "\n",
       "[5 rows x 16349 columns]"
      ]
     },
     "execution_count": 8,
     "metadata": {},
     "output_type": "execute_result"
    }
   ],
   "source": [
    "dataset = dataset.transpose().reindex(index=nodes).transpose()\n",
    "X = dataset.values\n",
    "dataset.head()"
   ]
  },
  {
   "cell_type": "markdown",
   "metadata": {},
   "source": [
    "### V. Graph-Sparse Logistic Regression"
   ]
  },
  {
   "cell_type": "code",
   "execution_count": 9,
   "metadata": {
    "scrolled": false
   },
   "outputs": [],
   "source": [
    "d = len(nodes)\n",
    "c = 2\n",
    "\n",
    "graph_opts = gslr.GraphOptions(edges=edges, root=-1, num_clusters=1, pruning='strong')\n",
    "\n",
    "sparsity_low = 80\n",
    "sparsity_high = 160\n",
    "\n",
    "verbosity_level = 1\n",
    "\n",
    "num_steps = 25\n",
    "possible_steps = np.array([0.03, 0.1, 0.3])\n",
    "steps = np.tile(possible_steps, (num_steps, 1))\n",
    "\n",
    "W0 = np.zeros((c, d))"
   ]
  },
  {
   "cell_type": "code",
   "execution_count": 10,
   "metadata": {
    "scrolled": false
   },
   "outputs": [
    {
     "name": "stdout",
     "output_type": "stream",
     "text": [
      "iteration 1:\n",
      "  loss_cur = 0.6931471805599465   loss_next = 0.6544586478012914   step_size = 0.03\n",
      "  loss_cur = 0.6931471805599465   loss_next = 0.5797592748569883   step_size = 0.1\n",
      "  loss_cur = 0.6931471805599465   loss_next = 0.4513856705442825   step_size = 0.3\n",
      "  best_step_size: 0.3\n",
      "iteration 2:\n",
      "  loss_cur = 0.4513856705442825   loss_next = 0.4420913326299605   step_size = 0.03\n",
      "  loss_cur = 0.4513856705442825   loss_next = 0.4273102591304955   step_size = 0.1\n",
      "  loss_cur = 0.4513856705442825   loss_next = 1.0493618230139945   step_size = 0.3\n",
      "  best_step_size: 0.1\n",
      "iteration 3:\n",
      "  loss_cur = 0.4273102591304955   loss_next = 0.39383285291759845   step_size = 0.03\n",
      "  loss_cur = 0.4273102591304955   loss_next = 0.39111436250897663   step_size = 0.1\n",
      "  loss_cur = 0.4273102591304955   loss_next = 0.9968446972236963   step_size = 0.3\n",
      "  best_step_size: 0.1\n",
      "iteration 4:\n",
      "  loss_cur = 0.39111436250897663   loss_next = 0.3845036540848394   step_size = 0.03\n",
      "  loss_cur = 0.39111436250897663   loss_next = 0.3562002734190592   step_size = 0.1\n",
      "  loss_cur = 0.39111436250897663   loss_next = 0.7020018988098878   step_size = 0.3\n",
      "  best_step_size: 0.1\n",
      "iteration 5:\n",
      "  loss_cur = 0.3562002734190592   loss_next = 0.35012295302870144   step_size = 0.03\n",
      "  loss_cur = 0.3562002734190592   loss_next = 0.3469063405330467   step_size = 0.1\n",
      "  loss_cur = 0.3562002734190592   loss_next = 0.3324838337909008   step_size = 0.3\n",
      "  best_step_size: 0.3\n",
      "iteration 6:\n",
      "  loss_cur = 0.3324838337909008   loss_next = 0.3275297341929345   step_size = 0.03\n",
      "  loss_cur = 0.3324838337909008   loss_next = 0.30056215381584767   step_size = 0.1\n",
      "  loss_cur = 0.3324838337909008   loss_next = 0.6314153980523782   step_size = 0.3\n",
      "  best_step_size: 0.1\n",
      "iteration 7:\n",
      "  loss_cur = 0.30056215381584767   loss_next = 0.29746135187018014   step_size = 0.03\n",
      "  loss_cur = 0.30056215381584767   loss_next = 0.2904682535291151   step_size = 0.1\n",
      "  loss_cur = 0.30056215381584767   loss_next = 0.27246426261601964   step_size = 0.3\n",
      "  best_step_size: 0.3\n",
      "iteration 8:\n",
      "  loss_cur = 0.27246426261601964   loss_next = 0.26999840474978853   step_size = 0.03\n",
      "  loss_cur = 0.27246426261601964   loss_next = 0.2650033571869118   step_size = 0.1\n",
      "  loss_cur = 0.27246426261601964   loss_next = 0.25274618522949177   step_size = 0.3\n",
      "  best_step_size: 0.3\n",
      "iteration 9:\n",
      "  loss_cur = 0.25274618522949177   loss_next = 0.25033070949656205   step_size = 0.03\n",
      "  loss_cur = 0.25274618522949177   loss_next = 0.24527886851193678   step_size = 0.1\n",
      "  loss_cur = 0.25274618522949177   loss_next = 0.23391944483173394   step_size = 0.3\n",
      "  best_step_size: 0.3\n",
      "iteration 10:\n",
      "  loss_cur = 0.23391944483173394   loss_next = 0.2296908989930901   step_size = 0.03\n",
      "  loss_cur = 0.23391944483173394   loss_next = 0.2251392031242167   step_size = 0.1\n",
      "  loss_cur = 0.23391944483173394   loss_next = 0.2538267930128639   step_size = 0.3\n",
      "  best_step_size: 0.1\n",
      "iteration 11:\n",
      "  loss_cur = 0.2251392031242167   loss_next = 0.22359891816508543   step_size = 0.03\n",
      "  loss_cur = 0.2251392031242167   loss_next = 0.22008936180980976   step_size = 0.1\n",
      "  loss_cur = 0.2251392031242167   loss_next = 0.21056445587366618   step_size = 0.3\n",
      "  best_step_size: 0.3\n",
      "iteration 12:\n",
      "  loss_cur = 0.21056445587366618   loss_next = 0.20932411197695144   step_size = 0.03\n",
      "  loss_cur = 0.21056445587366618   loss_next = 0.20648108565700418   step_size = 0.1\n",
      "  loss_cur = 0.21056445587366618   loss_next = 0.19771709755763994   step_size = 0.3\n",
      "  best_step_size: 0.3\n",
      "iteration 13:\n",
      "  loss_cur = 0.19771709755763994   loss_next = 0.19660493115323505   step_size = 0.03\n",
      "  loss_cur = 0.19771709755763994   loss_next = 0.1940468755484064   step_size = 0.1\n",
      "  loss_cur = 0.19771709755763994   loss_next = 0.18701563879270314   step_size = 0.3\n",
      "  best_step_size: 0.3\n",
      "iteration 14:\n",
      "  loss_cur = 0.18701563879270314   loss_next = 0.18607238134272927   step_size = 0.03\n",
      "  loss_cur = 0.18701563879270314   loss_next = 0.18389835617875477   step_size = 0.1\n",
      "  loss_cur = 0.18701563879270314   loss_next = 0.17788931228946922   step_size = 0.3\n",
      "  best_step_size: 0.3\n",
      "iteration 15:\n",
      "  loss_cur = 0.17788931228946922   loss_next = 0.17707368603614138   step_size = 0.03\n",
      "  loss_cur = 0.17788931228946922   loss_next = 0.17519144606764173   step_size = 0.1\n",
      "  loss_cur = 0.17788931228946922   loss_next = 0.16994150761373106   step_size = 0.3\n",
      "  best_step_size: 0.3\n",
      "iteration 16:\n",
      "  loss_cur = 0.16994150761373106   loss_next = 0.1692255472756062   step_size = 0.03\n",
      "  loss_cur = 0.16994150761373106   loss_next = 0.1675754279466761   step_size = 0.1\n",
      "  loss_cur = 0.16994150761373106   loss_next = 0.16291538393285931   step_size = 0.3\n",
      "  best_step_size: 0.3\n",
      "iteration 17:\n",
      "  loss_cur = 0.16291538393285931   loss_next = 0.16227969703555178   step_size = 0.03\n",
      "  loss_cur = 0.16291538393285931   loss_next = 0.16081043696496916   step_size = 0.1\n",
      "  loss_cur = 0.16291538393285931   loss_next = 0.15671844788845246   step_size = 0.3\n",
      "  best_step_size: 0.3\n",
      "iteration 18:\n",
      "  loss_cur = 0.15671844788845246   loss_next = 0.15615049151818075   step_size = 0.03\n",
      "  loss_cur = 0.15671844788845246   loss_next = 0.1548367739240346   step_size = 0.1\n",
      "  loss_cur = 0.15671844788845246   loss_next = 0.15117046392629313   step_size = 0.3\n",
      "  best_step_size: 0.3\n",
      "iteration 19:\n",
      "  loss_cur = 0.15117046392629313   loss_next = 0.15065862301357819   step_size = 0.03\n",
      "  loss_cur = 0.15117046392629313   loss_next = 0.14947399522680274   step_size = 0.1\n",
      "  loss_cur = 0.15117046392629313   loss_next = 0.14613327002477783   step_size = 0.3\n",
      "  best_step_size: 0.3\n",
      "iteration 20:\n",
      "  loss_cur = 0.14613327002477783   loss_next = 0.14566817463217688   step_size = 0.03\n",
      "  loss_cur = 0.14613327002477783   loss_next = 0.14459124441385254   step_size = 0.1\n",
      "  loss_cur = 0.14613327002477783   loss_next = 0.1415473431605062   step_size = 0.3\n",
      "  best_step_size: 0.3\n",
      "iteration 21:\n",
      "  loss_cur = 0.1415473431605062   loss_next = 0.14112069231425003   step_size = 0.03\n",
      "  loss_cur = 0.1415473431605062   loss_next = 0.140132466428328   step_size = 0.1\n",
      "  loss_cur = 0.1415473431605062   loss_next = 0.13736434581842935   step_size = 0.3\n",
      "  best_step_size: 0.3\n",
      "iteration 22:\n",
      "  loss_cur = 0.13736434581842935   loss_next = 0.13697347468353158   step_size = 0.03\n",
      "  loss_cur = 0.13736434581842935   loss_next = 0.13606770941584823   step_size = 0.1\n",
      "  loss_cur = 0.13736434581842935   loss_next = 0.13352744716647177   step_size = 0.3\n",
      "  best_step_size: 0.3\n",
      "iteration 23:\n",
      "  loss_cur = 0.13352744716647177   loss_next = 0.1331674617687459   step_size = 0.03\n",
      "  loss_cur = 0.13352744716647177   loss_next = 0.13233295081255658   step_size = 0.1\n",
      "  loss_cur = 0.13352744716647177   loss_next = 0.1299901281727388   step_size = 0.3\n",
      "  best_step_size: 0.3\n",
      "iteration 24:\n",
      "  loss_cur = 0.1299901281727388   loss_next = 0.12965709311300821   step_size = 0.03\n",
      "  loss_cur = 0.1299901281727388   loss_next = 0.12888479896190472   step_size = 0.1\n",
      "  loss_cur = 0.1299901281727388   loss_next = 0.12671468683163817   step_size = 0.3\n",
      "  best_step_size: 0.3\n",
      "iteration 25:\n",
      "  loss_cur = 0.12671468683163817   loss_next = 0.12640535631245473   step_size = 0.03\n",
      "WARNING: returning sparsity 79 although minimum sparsity 80 was requested.\n",
      "  loss_cur = 0.12671468683163817   loss_next = 0.1256878169984213   step_size = 0.1\n",
      "  loss_cur = 0.12671468683163817   loss_next = 0.12366993627471859   step_size = 0.3\n",
      "  best_step_size: 0.3\n"
     ]
    }
   ],
   "source": [
    "W_hat, losses = gslr.gslr(X, y, W0, sparsity_low, sparsity_high, graph_opts, steps, verbosity_level, edge_costs=inbiomap_experimentally.cost.values, edge_costs_multiplier=6)"
   ]
  },
  {
   "cell_type": "code",
   "execution_count": 11,
   "metadata": {
    "scrolled": false
   },
   "outputs": [
    {
     "name": "stdout",
     "output_type": "stream",
     "text": [
      "Train accuracy: 0.985\n"
     ]
    },
    {
     "data": {
      "image/png": "[encoded data removed]",
      "text/plain": [
       "<matplotlib.figure.Figure at 0x10d8e7080>"
      ]
     },
     "metadata": {},
     "output_type": "display_data"
    }
   ],
   "source": [
    "yhat = gslr.predict(X, W_hat)\n",
    "num_cor = gslr.num_correct(y, yhat)\n",
    "print('Train accuracy: {}'.format(num_cor / float(len(y))))\n",
    "\n",
    "plt.plot(losses)\n",
    "plt.yscale('log')"
   ]
  },
  {
   "cell_type": "markdown",
   "metadata": {},
   "source": [
    "### VI. Examine Results"
   ]
  },
  {
   "cell_type": "code",
   "execution_count": 12,
   "metadata": {
    "scrolled": false
   },
   "outputs": [
    {
     "data": {
      "text/plain": [
       "<matplotlib.axes._subplots.AxesSubplot at 0x10af90668>"
      ]
     },
     "execution_count": 12,
     "metadata": {},
     "output_type": "execute_result"
    },
    {
     "data": {
      "image/png": "[encoded data removed]",
      "text/plain": [
       "<matplotlib.figure.Figure at 0x10af90fd0>"
      ]
     },
     "metadata": {},
     "output_type": "display_data"
    }
   ],
   "source": [
    "coefs = pd.DataFrame(W_hat, columns=dataset.columns)\n",
    "coefs.transpose().plot(figsize=(17,8))"
   ]
  },
  {
   "cell_type": "code",
   "execution_count": 13,
   "metadata": {
    "scrolled": true
   },
   "outputs": [
    {
     "data": {
      "text/plain": [
       "77"
      ]
     },
     "execution_count": 13,
     "metadata": {},
     "output_type": "execute_result"
    }
   ],
   "source": [
    "features = coefs.columns[(coefs != 0).any()].tolist()\n",
    "len(features)"
   ]
  },
  {
   "cell_type": "code",
   "execution_count": 14,
   "metadata": {
    "scrolled": false
   },
   "outputs": [
    {
     "name": "stderr",
     "output_type": "stream",
     "text": [
      "/Users/alex/Documents/gslr/venv/lib/python3.6/site-packages/matplotlib_venn/_venn3.py:117: UserWarning: Bad circle positioning\n",
      "  warnings.warn(\"Bad circle positioning\")\n"
     ]
    },
    {
     "data": {
      "text/plain": [
       "<matplotlib_venn._common.VennDiagram at 0x10cee3748>"
      ]
     },
     "execution_count": 14,
     "metadata": {},
     "output_type": "execute_result"
    },
    {
     "data": {
      "image/png": "[encoded data removed]",
      "text/plain": [
       "<matplotlib.figure.Figure at 0x10af5fcf8>"
      ]
     },
     "metadata": {},
     "output_type": "display_data"
    }
   ],
   "source": [
    "pathways_df = pd.read_pickle(KEGG_path)\n",
    "genes, correlates = pathways_df.loc[pd.IndexSlice[:, :, ['hsa04110']],['genes', 'correlates']].values[0]\n",
    "correlates = correlates.tolist()\n",
    "venn3([set(features), set(genes), set(genes)|set(correlates)])"
   ]
  },
  {
   "cell_type": "markdown",
   "metadata": {
    "collapsed": true
   },
   "source": [
    "### V. Analysis of edge weights in kegg pathways versus solutions given by GSLR"
   ]
  },
  {
   "cell_type": "code",
   "execution_count": 16,
   "metadata": {},
   "outputs": [],
   "source": [
    "interactome_dataframe = pd.read_csv(interactome_path, sep='\\t', names=['protein1', 'protein2', 'cost'])\n",
    "\n",
    "interactome_graph = nx.from_pandas_dataframe(interactome_dataframe, 'protein1', 'protein2', edge_attr=['cost'])"
   ]
  },
  {
   "cell_type": "markdown",
   "metadata": {},
   "source": [
    "### Selected subgraph edge cost histogram"
   ]
  },
  {
   "cell_type": "code",
   "execution_count": 17,
   "metadata": {},
   "outputs": [
    {
     "data": {
      "text/plain": [
       "<matplotlib.axes._subplots.AxesSubplot at 0x10cec45c0>"
      ]
     },
     "execution_count": 17,
     "metadata": {},
     "output_type": "execute_result"
    },
    {
     "data": {
      "image/png": "[encoded data removed]",
      "text/plain": [
       "<matplotlib.figure.Figure at 0x10cec68d0>"
      ]
     },
     "metadata": {},
     "output_type": "display_data"
    }
   ],
   "source": [
    "subgraph = interactome_graph.subgraph(features)\n",
    "confidences = pd.DataFrame([confidence_dict['cost'] for source, target, confidence_dict in subgraph.edges(data=True)], columns=['cost']).astype(float)\n",
    "confidences.plot.hist(bins=50)"
   ]
  },
  {
   "cell_type": "markdown",
   "metadata": {},
   "source": [
    "### Ground Truth subgraph edge cost histogram"
   ]
  },
  {
   "cell_type": "code",
   "execution_count": 18,
   "metadata": {},
   "outputs": [
    {
     "data": {
      "text/plain": [
       "<matplotlib.axes._subplots.AxesSubplot at 0x10cec6dd8>"
      ]
     },
     "execution_count": 18,
     "metadata": {},
     "output_type": "execute_result"
    },
    {
     "data": {
      "image/png": "[encoded data removed]",
      "text/plain": [
       "<matplotlib.figure.Figure at 0x10bcc5358>"
      ]
     },
     "metadata": {},
     "output_type": "display_data"
    }
   ],
   "source": [
    "subgraph2 = interactome_graph.subgraph(genes)\n",
    "confidences2 = pd.DataFrame([confidence_dict['cost'] for source, target, confidence_dict in subgraph2.edges(data=True)], columns=['cost']).astype(float)\n",
    "confidences2.plot.hist(bins=50)"
   ]
  }
 ],
 "metadata": {
  "kernelspec": {
   "display_name": "Python 3",
   "language": "python",
   "name": "python3"
  },
  "language_info": {
   "codemirror_mode": {
    "name": "ipython",
    "version": 3
   },
   "file_extension": ".py",
   "mimetype": "text/x-python",
   "name": "python",
   "nbconvert_exporter": "python",
   "pygments_lexer": "ipython3",
   "version": "3.6.5"
  }
 },
 "nbformat": 4,
 "nbformat_minor": 2
}
